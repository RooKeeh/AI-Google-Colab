{
  "nbformat": 4,
  "nbformat_minor": 0,
  "metadata": {
    "colab": {
      "provenance": [],
      "collapsed_sections": [
        "mX0zGnedgzjx",
        "0t38NQIQhhXN",
        "ormHjxjIiwDw",
        "JDAby_wPi4gr",
        "sS7qO3-jjLo9",
        "FUgIma0gnjk8",
        "_SkMSXpws27p",
        "fqhGrtgutbsr"
      ],
      "authorship_tag": "ABX9TyPt9Z8yWH8SBDkvqiC4HiTr",
      "include_colab_link": true
    },
    "kernelspec": {
      "name": "python3",
      "display_name": "Python 3"
    },
    "language_info": {
      "name": "python"
    },
    "widgets": {
      "application/vnd.jupyter.widget-state+json": {
        "fef302310e5f4b82a61b606eeac1255e": {
          "model_module": "@jupyter-widgets/controls",
          "model_name": "VBoxModel",
          "model_module_version": "1.5.0",
          "state": {
            "_dom_classes": [
              "widget-interact"
            ],
            "_model_module": "@jupyter-widgets/controls",
            "_model_module_version": "1.5.0",
            "_model_name": "VBoxModel",
            "_view_count": null,
            "_view_module": "@jupyter-widgets/controls",
            "_view_module_version": "1.5.0",
            "_view_name": "VBoxView",
            "box_style": "",
            "children": [
              "IPY_MODEL_28bc43e208c04c9eba2a196dd49ddc18",
              "IPY_MODEL_311bc74ce0244887acc25eff419413ab",
              "IPY_MODEL_199cee6db0d0433ca56aa5ecca656e5b"
            ],
            "layout": "IPY_MODEL_d470f620fbe54035809564afaef72a76"
          }
        },
        "28bc43e208c04c9eba2a196dd49ddc18": {
          "model_module": "@jupyter-widgets/controls",
          "model_name": "FloatSliderModel",
          "model_module_version": "1.5.0",
          "state": {
            "_dom_classes": [],
            "_model_module": "@jupyter-widgets/controls",
            "_model_module_version": "1.5.0",
            "_model_name": "FloatSliderModel",
            "_view_count": null,
            "_view_module": "@jupyter-widgets/controls",
            "_view_module_version": "1.5.0",
            "_view_name": "FloatSliderView",
            "continuous_update": true,
            "description": "slope",
            "description_tooltip": null,
            "disabled": false,
            "layout": "IPY_MODEL_570a3c178b1f4009951d317103f68706",
            "max": 5,
            "min": -2,
            "orientation": "horizontal",
            "readout": true,
            "readout_format": ".2f",
            "step": 0.5,
            "style": "IPY_MODEL_965ca10f13ee4f88a8858234c3ebe28f",
            "value": 3
          }
        },
        "311bc74ce0244887acc25eff419413ab": {
          "model_module": "@jupyter-widgets/controls",
          "model_name": "FloatSliderModel",
          "model_module_version": "1.5.0",
          "state": {
            "_dom_classes": [],
            "_model_module": "@jupyter-widgets/controls",
            "_model_module_version": "1.5.0",
            "_model_name": "FloatSliderModel",
            "_view_count": null,
            "_view_module": "@jupyter-widgets/controls",
            "_view_module_version": "1.5.0",
            "_view_name": "FloatSliderView",
            "continuous_update": true,
            "description": "intercept",
            "description_tooltip": null,
            "disabled": false,
            "layout": "IPY_MODEL_7be79d784cfb418d91c535f5159648e3",
            "max": 5,
            "min": -5,
            "orientation": "horizontal",
            "readout": true,
            "readout_format": ".2f",
            "step": 0.25,
            "style": "IPY_MODEL_5f0639e1e1434e3885ed9eeed0c0bee1",
            "value": -5
          }
        },
        "199cee6db0d0433ca56aa5ecca656e5b": {
          "model_module": "@jupyter-widgets/output",
          "model_name": "OutputModel",
          "model_module_version": "1.0.0",
          "state": {
            "_dom_classes": [],
            "_model_module": "@jupyter-widgets/output",
            "_model_module_version": "1.0.0",
            "_model_name": "OutputModel",
            "_view_count": null,
            "_view_module": "@jupyter-widgets/output",
            "_view_module_version": "1.0.0",
            "_view_name": "OutputView",
            "layout": "IPY_MODEL_e4b81352f59b44c99d863c76cd1daaba",
            "msg_id": "",
            "outputs": [
              {
                "output_type": "display_data",
                "data": {
                  "text/plain": "<Figure size 432x288 with 1 Axes>",
                  "image/png": "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\n"
                },
                "metadata": {
                  "needs_background": "light"
                }
              }
            ]
          }
        },
        "d470f620fbe54035809564afaef72a76": {
          "model_module": "@jupyter-widgets/base",
          "model_name": "LayoutModel",
          "model_module_version": "1.2.0",
          "state": {
            "_model_module": "@jupyter-widgets/base",
            "_model_module_version": "1.2.0",
            "_model_name": "LayoutModel",
            "_view_count": null,
            "_view_module": "@jupyter-widgets/base",
            "_view_module_version": "1.2.0",
            "_view_name": "LayoutView",
            "align_content": null,
            "align_items": null,
            "align_self": null,
            "border": null,
            "bottom": null,
            "display": null,
            "flex": null,
            "flex_flow": null,
            "grid_area": null,
            "grid_auto_columns": null,
            "grid_auto_flow": null,
            "grid_auto_rows": null,
            "grid_column": null,
            "grid_gap": null,
            "grid_row": null,
            "grid_template_areas": null,
            "grid_template_columns": null,
            "grid_template_rows": null,
            "height": null,
            "justify_content": null,
            "justify_items": null,
            "left": null,
            "margin": null,
            "max_height": null,
            "max_width": null,
            "min_height": null,
            "min_width": null,
            "object_fit": null,
            "object_position": null,
            "order": null,
            "overflow": null,
            "overflow_x": null,
            "overflow_y": null,
            "padding": null,
            "right": null,
            "top": null,
            "visibility": null,
            "width": null
          }
        },
        "570a3c178b1f4009951d317103f68706": {
          "model_module": "@jupyter-widgets/base",
          "model_name": "LayoutModel",
          "model_module_version": "1.2.0",
          "state": {
            "_model_module": "@jupyter-widgets/base",
            "_model_module_version": "1.2.0",
            "_model_name": "LayoutModel",
            "_view_count": null,
            "_view_module": "@jupyter-widgets/base",
            "_view_module_version": "1.2.0",
            "_view_name": "LayoutView",
            "align_content": null,
            "align_items": null,
            "align_self": null,
            "border": null,
            "bottom": null,
            "display": null,
            "flex": null,
            "flex_flow": null,
            "grid_area": null,
            "grid_auto_columns": null,
            "grid_auto_flow": null,
            "grid_auto_rows": null,
            "grid_column": null,
            "grid_gap": null,
            "grid_row": null,
            "grid_template_areas": null,
            "grid_template_columns": null,
            "grid_template_rows": null,
            "height": null,
            "justify_content": null,
            "justify_items": null,
            "left": null,
            "margin": null,
            "max_height": null,
            "max_width": null,
            "min_height": null,
            "min_width": null,
            "object_fit": null,
            "object_position": null,
            "order": null,
            "overflow": null,
            "overflow_x": null,
            "overflow_y": null,
            "padding": null,
            "right": null,
            "top": null,
            "visibility": null,
            "width": null
          }
        },
        "965ca10f13ee4f88a8858234c3ebe28f": {
          "model_module": "@jupyter-widgets/controls",
          "model_name": "SliderStyleModel",
          "model_module_version": "1.5.0",
          "state": {
            "_model_module": "@jupyter-widgets/controls",
            "_model_module_version": "1.5.0",
            "_model_name": "SliderStyleModel",
            "_view_count": null,
            "_view_module": "@jupyter-widgets/base",
            "_view_module_version": "1.2.0",
            "_view_name": "StyleView",
            "description_width": "",
            "handle_color": null
          }
        },
        "7be79d784cfb418d91c535f5159648e3": {
          "model_module": "@jupyter-widgets/base",
          "model_name": "LayoutModel",
          "model_module_version": "1.2.0",
          "state": {
            "_model_module": "@jupyter-widgets/base",
            "_model_module_version": "1.2.0",
            "_model_name": "LayoutModel",
            "_view_count": null,
            "_view_module": "@jupyter-widgets/base",
            "_view_module_version": "1.2.0",
            "_view_name": "LayoutView",
            "align_content": null,
            "align_items": null,
            "align_self": null,
            "border": null,
            "bottom": null,
            "display": null,
            "flex": null,
            "flex_flow": null,
            "grid_area": null,
            "grid_auto_columns": null,
            "grid_auto_flow": null,
            "grid_auto_rows": null,
            "grid_column": null,
            "grid_gap": null,
            "grid_row": null,
            "grid_template_areas": null,
            "grid_template_columns": null,
            "grid_template_rows": null,
            "height": null,
            "justify_content": null,
            "justify_items": null,
            "left": null,
            "margin": null,
            "max_height": null,
            "max_width": null,
            "min_height": null,
            "min_width": null,
            "object_fit": null,
            "object_position": null,
            "order": null,
            "overflow": null,
            "overflow_x": null,
            "overflow_y": null,
            "padding": null,
            "right": null,
            "top": null,
            "visibility": null,
            "width": null
          }
        },
        "5f0639e1e1434e3885ed9eeed0c0bee1": {
          "model_module": "@jupyter-widgets/controls",
          "model_name": "SliderStyleModel",
          "model_module_version": "1.5.0",
          "state": {
            "_model_module": "@jupyter-widgets/controls",
            "_model_module_version": "1.5.0",
            "_model_name": "SliderStyleModel",
            "_view_count": null,
            "_view_module": "@jupyter-widgets/base",
            "_view_module_version": "1.2.0",
            "_view_name": "StyleView",
            "description_width": "",
            "handle_color": null
          }
        },
        "e4b81352f59b44c99d863c76cd1daaba": {
          "model_module": "@jupyter-widgets/base",
          "model_name": "LayoutModel",
          "model_module_version": "1.2.0",
          "state": {
            "_model_module": "@jupyter-widgets/base",
            "_model_module_version": "1.2.0",
            "_model_name": "LayoutModel",
            "_view_count": null,
            "_view_module": "@jupyter-widgets/base",
            "_view_module_version": "1.2.0",
            "_view_name": "LayoutView",
            "align_content": null,
            "align_items": null,
            "align_self": null,
            "border": null,
            "bottom": null,
            "display": null,
            "flex": null,
            "flex_flow": null,
            "grid_area": null,
            "grid_auto_columns": null,
            "grid_auto_flow": null,
            "grid_auto_rows": null,
            "grid_column": null,
            "grid_gap": null,
            "grid_row": null,
            "grid_template_areas": null,
            "grid_template_columns": null,
            "grid_template_rows": null,
            "height": null,
            "justify_content": null,
            "justify_items": null,
            "left": null,
            "margin": null,
            "max_height": null,
            "max_width": null,
            "min_height": null,
            "min_width": null,
            "object_fit": null,
            "object_position": null,
            "order": null,
            "overflow": null,
            "overflow_x": null,
            "overflow_y": null,
            "padding": null,
            "right": null,
            "top": null,
            "visibility": null,
            "width": null
          }
        }
      }
    }
  },
  "cells": [
    {
      "cell_type": "markdown",
      "metadata": {
        "id": "view-in-github",
        "colab_type": "text"
      },
      "source": [
        "<a href=\"https://colab.research.google.com/github/RooKeeh/AI-Google-Colab/blob/main/Lab6.ipynb\" target=\"_parent\"><img src=\"https://colab.research.google.com/assets/colab-badge.svg\" alt=\"Open In Colab\"/></a>"
      ]
    },
    {
      "cell_type": "markdown",
      "source": [
        "#Importarea pachetelor de lucru"
      ],
      "metadata": {
        "id": "mX0zGnedgzjx"
      }
    },
    {
      "cell_type": "code",
      "execution_count": 5,
      "metadata": {
        "id": "ek40buHlgT9R"
      },
      "outputs": [],
      "source": [
        "import numpy as np\n",
        "from sklearn.linear_model import LinearRegression"
      ]
    },
    {
      "cell_type": "markdown",
      "source": [
        "#Importarea datelor"
      ],
      "metadata": {
        "id": "0t38NQIQhhXN"
      }
    },
    {
      "cell_type": "code",
      "source": [
        "x=np.array([5,15,25,35,45,55]).reshape((-1,1))\n",
        "y=np.array([5,20,14,32,22,38])"
      ],
      "metadata": {
        "id": "bKAimxIAhjAZ"
      },
      "execution_count": null,
      "outputs": []
    },
    {
      "cell_type": "markdown",
      "source": [
        "#Crearea modelului de regresie"
      ],
      "metadata": {
        "id": "ormHjxjIiwDw"
      }
    },
    {
      "cell_type": "code",
      "source": [
        "model=LinearRegression()\n",
        "model.fit(x,y)\n",
        "model=LinearRegression().fit(x,y)"
      ],
      "metadata": {
        "id": "kEv8XT3cisx8"
      },
      "execution_count": null,
      "outputs": []
    },
    {
      "cell_type": "markdown",
      "source": [
        "#Verificarea rezultatelor"
      ],
      "metadata": {
        "id": "JDAby_wPi4gr"
      }
    },
    {
      "cell_type": "code",
      "source": [
        "r=model.score(x,y)\n",
        "print('coeficientul de determinare R2:',r)"
      ],
      "metadata": {
        "colab": {
          "base_uri": "https://localhost:8080/"
        },
        "id": "Al_v-22Di6mt",
        "outputId": "0fac79db-5e70-48be-f64a-4af8d69e438c"
      },
      "execution_count": null,
      "outputs": [
        {
          "output_type": "stream",
          "name": "stdout",
          "text": [
            "coeficientul de determinare R2: 0.7158756137479542\n"
          ]
        }
      ]
    },
    {
      "cell_type": "code",
      "source": [
        "print('b0:',model.intercept_)\n",
        "print('b1:',model.coef_)"
      ],
      "metadata": {
        "colab": {
          "base_uri": "https://localhost:8080/"
        },
        "id": "P35x_DIJjBnx",
        "outputId": "1c1d9285-b350-4a82-940c-e5bb9902452b"
      },
      "execution_count": null,
      "outputs": [
        {
          "output_type": "stream",
          "name": "stdout",
          "text": [
            "b0: 5.633333333333329\n",
            "b1: [0.54]\n"
          ]
        }
      ]
    },
    {
      "cell_type": "markdown",
      "source": [
        "#Rezultatul estimat"
      ],
      "metadata": {
        "id": "sS7qO3-jjLo9"
      }
    },
    {
      "cell_type": "code",
      "source": [
        "y_pred=model.predict(x)\n",
        "print('rezultatul estimat:',y_pred,sep='\\n')"
      ],
      "metadata": {
        "colab": {
          "base_uri": "https://localhost:8080/"
        },
        "id": "qYlIJIpxjOXC",
        "outputId": "272c3ce3-498c-4b16-bef0-bc66f0a61e72"
      },
      "execution_count": null,
      "outputs": [
        {
          "output_type": "stream",
          "name": "stdout",
          "text": [
            "rezultatul estimat:\n",
            "[ 8.33333333 13.73333333 19.13333333 24.53333333 29.93333333 35.33333333]\n"
          ]
        }
      ]
    },
    {
      "cell_type": "markdown",
      "source": [
        "#Bibliotecile numpy si matplotlib"
      ],
      "metadata": {
        "id": "FUgIma0gnjk8"
      }
    },
    {
      "cell_type": "code",
      "source": [
        "import numpy as np\n",
        "import matplotlib.pyplot as plt"
      ],
      "metadata": {
        "id": "xtA7SlqWnl5b"
      },
      "execution_count": 2,
      "outputs": []
    },
    {
      "cell_type": "markdown",
      "source": [
        "#Definirea functiilor utile"
      ],
      "metadata": {
        "id": "omFf5IXGnrEB"
      }
    },
    {
      "cell_type": "code",
      "source": [
        "def plot_observed_vs_predicted(x,y,y_hat,theta_hat):\n",
        "  fig,ax=plt.subplots()\n",
        "  ax.scatter(x,y,label='Observed')\n",
        "  ax.plot(x,y_hat,color='r',label='Fit')\n",
        "  ymin=np.minimum(y,y_hat)\n",
        "  ymax=np.maximum(y,y_hat)\n",
        "  ax.vlines(x,ymin,ymax,'g',alpha=0.5,label='Residuals')\n",
        "  ax.set(title=fr\"$\\hat{{\\theta}}$={theta_hat:0.2f},MSE={mse(x,y,theta_hat):.2f}\",xlabel='x',ylabel='y')\n",
        "  ax.legend()\n",
        "def generate_data(slope=1.0,intercept=0.0,n_samples=20):\n",
        "  x=9*np.random.rand(n_samples)\n",
        "  y_perfect=slope*x+intercept\n",
        "  noise=np.random.rand(n_samples)\n",
        "  y=y_perfect+noise\n",
        "  return x,y_perfect,y\n",
        "def plot_observed(x,y):\n",
        "  fig,ax=plt.subplots()\n",
        "  ax.scatter(x,y)\n",
        "  ax.set(xlabel='Număr de ore dormite înainte de examen',ylabel='Nota obținută la examen',xlim=(0,9.1),ylim=(0,10.3))\n",
        "  ax.set_xticks(np.arange(0, 11, 2))\n",
        "  ax.set_yticks(np.arange(0, 11, 1))"
      ],
      "metadata": {
        "id": "UDvMtiXvntFp"
      },
      "execution_count": null,
      "outputs": []
    },
    {
      "cell_type": "markdown",
      "source": [
        "#Exemplu practic"
      ],
      "metadata": {
        "id": "3H4lonHQqSIl"
      }
    },
    {
      "cell_type": "code",
      "source": [
        "x,y_perfect,y=generate_data(slope=0.8,intercept=1.8,n_samples=20)\n",
        "plot_observed(x,y)"
      ],
      "metadata": {
        "colab": {
          "base_uri": "https://localhost:8080/",
          "height": 279
        },
        "id": "5Yzj78-XqTw_",
        "outputId": "2d9edfbc-37c3-474b-a242-530f9c137522"
      },
      "execution_count": null,
      "outputs": [
        {
          "output_type": "display_data",
          "data": {
            "text/plain": [
              "<Figure size 432x288 with 1 Axes>"
            ],
            "image/png": "[encoded data removed]"
          },
          "metadata": {
            "needs_background": "light"
          }
        }
      ]
    },
    {
      "cell_type": "code",
      "source": [
        "def logarithmic(xs,scale=1.0,rate=1.0,x0=0.0):\n",
        "  ys=scale*np.log(rate*(xs-x0))\n",
        "  return ys\n",
        "def linear(xs,slope=3.0,intercept=-4.3):\n",
        "  ys=slope*xs+intercept\n",
        "  return ys\n",
        "def quadratic(xs,slope=0.5,intercept=-0.5):\n",
        "  ys=slope*(xs**2)+intercept\n",
        "  return ys\n",
        "fig,(ax1,ax2,ax3)=plt.subplots(1,3,figsize=(12,5))\n",
        "fig.suptitle('Reprezentare grafică a 3 funcții diferite. Care redă cel mai bine relația dintre date?',size=13,y=1.1)\n",
        "x_=np.linspace(0.1,10,100)\n",
        "log_y=logarithmic(x_,scale=3.5,rate=1.0,x0=-1)\n",
        "ax1.scatter(x,y,label='data points')\n",
        "ax1.plot(x_,log_y,color='red')\n",
        "ax1.set(title='Funcția logaritmică',label='f(x)=clog(ax+b)',xlabel='Număr de ore dormite înainte de examen',ylabel='Nota obținută la examen',xlim=(0,9.1),ylim=(0,10.3))\n",
        "ax1.set_xticks(np.arange(0,11,2))\n",
        "ax1.set_yticks(np.arange(0,11,1))\n",
        "linear_y=linear(x_,slope=1.05,intercept=0.7)\n",
        "ax2.scatter(x,y,label='data points')\n",
        "ax2.plot(x_,linear_y,color='red')\n",
        "ax2.set(title='Funcția liniară',label='f(x)=ax+b',xlabel='Număr de ore dormite înainte de examen',ylabel='Nota obținută la examen',xlim=(0,9.1),ylim=(0,10.3))\n",
        "ax2.set_xticks(np.arange(0,11,2))\n",
        "ax2.set_yticks(np.arange(0,11,1))\n",
        "quadratic_y=quadratic(x_,slope=0.5,intercept=1.0)\n",
        "ax3.scatter(x,y,label='Data points')\n",
        "ax3.plot(x_,quadratic_y,color='red')\n",
        "ax3.set(title='Funcția polinomială de grad 2',label='f(x)=ax^2+b',xlabel='Număr de ore dormite înainte de examen',ylabel='Nota obținută la examen',xlim=(0,9.1),ylim=(0,10.3))\n",
        "ax3.set_xticks(np.arange(0,11,2))\n",
        "ax3.set_yticks(np.arange(0,11,1))\n",
        "plt.tight_layout(pad=1.2)\n",
        "plt.show()"
      ],
      "metadata": {
        "colab": {
          "base_uri": "https://localhost:8080/",
          "height": 318
        },
        "id": "KxiXrDVvrFEK",
        "outputId": "954d2769-9a8e-4991-ff96-5de9e569d644"
      },
      "execution_count": null,
      "outputs": [
        {
          "output_type": "display_data",
          "data": {
            "text/plain": [
              "<Figure size 864x360 with 3 Axes>"
            ],
            "image/png": "[encoded data removed]"
          },
          "metadata": {
            "needs_background": "light"
          }
        }
      ]
    },
    {
      "cell_type": "code",
      "source": [
        "fig,ax=plt.subplots()\n",
        "fig.suptitle('Un set de date perfect liniar',size=14,y=1.1)\n",
        "ax.scatter(x,y_perfect,label='Un set de date perfect liniar')\n",
        "plt.legend()\n",
        "plt.tight_layout(pad=2.0)\n",
        "plt.show()"
      ],
      "metadata": {
        "colab": {
          "base_uri": "https://localhost:8080/",
          "height": 328
        },
        "id": "ql_JWDrHsccB",
        "outputId": "adbc4b88-3da9-4936-97a7-554a45b8eb44"
      },
      "execution_count": null,
      "outputs": [
        {
          "output_type": "display_data",
          "data": {
            "text/plain": [
              "<Figure size 432x288 with 1 Axes>"
            ],
            "image/png": "[encoded data removed]"
          },
          "metadata": {
            "needs_background": "light"
          }
        }
      ]
    },
    {
      "cell_type": "code",
      "source": [
        "fig,ax=plt.subplots()\n",
        "fig.suptitle('O funcție liniară ce redă legătura perfectă dintre date.\\n''Acesta este un exemplu sintetic, neplauzibil în viața reală.',size=14,y=1.1)\n",
        "linear_y=linear(x,slope=0.8,intercept=1.8)\n",
        "ax.scatter(x,y_perfect,label='Puncte perfect liniare')\n",
        "ax.plot(x,linear_y,color='red',label='O funcție liniară ce redă legătura perfectă dintre date')\n",
        "plt.legend()\n",
        "plt.tight_layout(pad=2.0)\n",
        "plt.show()"
      ],
      "metadata": {
        "colab": {
          "base_uri": "https://localhost:8080/",
          "height": 328
        },
        "id": "E_e4NapnslpE",
        "outputId": "c3ff6aee-e1bd-404d-d2c5-63270c65bbc7"
      },
      "execution_count": null,
      "outputs": [
        {
          "output_type": "display_data",
          "data": {
            "text/plain": [
              "<Figure size 432x288 with 1 Axes>"
            ],
            "image/png": "[encoded data removed]"
          },
          "metadata": {
            "needs_background": "light"
          }
        }
      ]
    },
    {
      "cell_type": "markdown",
      "source": [
        "#Determinarea functiei de regresie liniara"
      ],
      "metadata": {
        "id": "_SkMSXpws27p"
      }
    },
    {
      "cell_type": "code",
      "source": [
        "import ipywidgets as widgets\n",
        "xs=np.linspace(0,10,100)\n",
        "def refresh(slope=3.0,intercept=-5.0):\n",
        "  plt.scatter(x,y,label='Puncte asociate datelor observate')\n",
        "  plt.xlim(0,9)\n",
        "  plt.ylim(0,11)\n",
        "  ys=linear(xs,slope=slope,intercept=intercept)\n",
        "  plt.plot(xs,ys,lw=3,color='red', \n",
        "           label=f'f(x)={slope}*x+{intercept}')\n",
        "  plt.title('Aproximarea datelor reale printr-o funcție liniară',size=13)\n",
        "  plt.legend()\n",
        "  plt.tight_layout(pad=2.0)\n",
        "  plt.show()\n",
        "_=widgets.interact(refresh,slope=(-2,5,0.5),intercept=(-5,5,0.25))"
      ],
      "metadata": {
        "colab": {
          "base_uri": "https://localhost:8080/",
          "height": 343,
          "referenced_widgets": [
            "fef302310e5f4b82a61b606eeac1255e",
            "28bc43e208c04c9eba2a196dd49ddc18",
            "311bc74ce0244887acc25eff419413ab",
            "199cee6db0d0433ca56aa5ecca656e5b",
            "d470f620fbe54035809564afaef72a76",
            "570a3c178b1f4009951d317103f68706",
            "965ca10f13ee4f88a8858234c3ebe28f",
            "7be79d784cfb418d91c535f5159648e3",
            "5f0639e1e1434e3885ed9eeed0c0bee1",
            "e4b81352f59b44c99d863c76cd1daaba"
          ]
        },
        "id": "puJ9zZ6Fs5sg",
        "outputId": "f85a821f-e25a-4232-8235-380ae00692d9"
      },
      "execution_count": null,
      "outputs": [
        {
          "output_type": "display_data",
          "data": {
            "text/plain": [
              "interactive(children=(FloatSlider(value=3.0, description='slope', max=5.0, min=-2.0, step=0.5), FloatSlider(va…"
            ],
            "application/vnd.jupyter.widget-view+json": {
              "version_major": 2,
              "version_minor": 0,
              "model_id": "fef302310e5f4b82a61b606eeac1255e"
            }
          },
          "metadata": {}
        }
      ]
    },
    {
      "cell_type": "markdown",
      "source": [
        "#Eroarea medie"
      ],
      "metadata": {
        "id": "fqhGrtgutbsr"
      }
    },
    {
      "cell_type": "code",
      "source": [
        "def mse(x,y,slope,intercept=0.0):\n",
        "  y_hat=slope*x+intercept\n",
        "  mse=np.mean((y-y_hat)**2)\n",
        "  return mse\n",
        "a_values=[0.5,1.0,1.5]\n",
        "b_values=[1.0,0.0,2.0]\n",
        "for a,b in zip(a_values,b_values):\n",
        "  print(\"a=%.2f,b=%.2f=>MSE(eroare medie)=%.2f\"%(a,b,mse(x,y,slope=a,intercept=b)))"
      ],
      "metadata": {
        "colab": {
          "base_uri": "https://localhost:8080/"
        },
        "id": "46tQR6m7tc8X",
        "outputId": "0302db64-f502-4124-daa9-255c10e0dcb2"
      },
      "execution_count": null,
      "outputs": [
        {
          "output_type": "stream",
          "name": "stdout",
          "text": [
            "a=0.50,b=1.00=>MSE(eroare medie)=7.37\n",
            "a=1.00,b=0.00=>MSE(eroare medie)=2.04\n",
            "a=1.50,b=2.00=>MSE(eroare medie)=11.12\n"
          ]
        }
      ]
    },
    {
      "cell_type": "code",
      "source": [
        "fig,axes=plt.subplots(ncols=3,figsize=(18,4))\n",
        "for a,b,ax in zip(a_values,b_values,axes):\n",
        "  ax.scatter(x,y,label='Puncte asociate datelor observate')\n",
        "  y_hat=a*x+b\n",
        "  ax.plot(x,y_hat,color='r',label='Funcția de regresie liniară')\n",
        "  ax.set(title=fr'a={a} și b={b}=>MSE={mse(x,y,a,b):.2f}',xlabel='x',ylabel='y');\n",
        "axes[0].legend()\n",
        "plt.show()"
      ],
      "metadata": {
        "colab": {
          "base_uri": "https://localhost:8080/",
          "height": 189
        },
        "id": "CEBYFs0at2CT",
        "outputId": "25fe382c-f1ca-4f86-8eb1-fff5922307e7"
      },
      "execution_count": null,
      "outputs": [
        {
          "output_type": "display_data",
          "data": {
            "text/plain": [
              "<Figure size 1296x288 with 3 Axes>"
            ],
            "image/png": "[encoded data removed]"
          },
          "metadata": {
            "needs_background": "light"
          }
        }
      ]
    },
    {
      "cell_type": "code",
      "source": [
        "def linear_regression(x,y):\n",
        "  numerator=np.sum(x*y)\n",
        "  denominator= np.sum(x**2)\n",
        "  slope=numerator/denominator\n",
        "  return slope\n",
        "slope=linear_regression(x,y)\n",
        "plt.scatter(x,y,label='Puncte asociate datelor observate')\n",
        "plt.title('Cea mai bună funcți de regresie liniară. MSE=%.2f.'%mse(x,y,slope))\n",
        "plt.plot(x,slope*x,label='Funcția de regresie liniară f(x)=%.2f*x'%slope,color='r')\n",
        "plt.legend()\n",
        "plt.show()"
      ],
      "metadata": {
        "colab": {
          "base_uri": "https://localhost:8080/",
          "height": 281
        },
        "id": "EFBxxV9OuYRQ",
        "outputId": "f5e3dc96-29a8-4344-d526-e3019d579f64"
      },
      "execution_count": null,
      "outputs": [
        {
          "output_type": "display_data",
          "data": {
            "text/plain": [
              "<Figure size 432x288 with 1 Axes>"
            ],
            "image/png": "[encoded data removed]"
          },
          "metadata": {
            "needs_background": "light"
          }
        }
      ]
    },
    {
      "cell_type": "markdown",
      "source": [
        "#Exercitii:\n",
        "1. O metoda pentru a obtine rezultate similare este sa realizam estimarea\n",
        "folosind coeficientii b0 si b1. Scrieti codul aferent.\n",
        "2. Realizati estimari dand alte valori pentru variabila x.\n",
        "3. Folositi-va de urmatoarele date de intrare pentru a crea un model de\n",
        "regresie multipla, respectiv cu doua variabile de intrare. Acestea vor fi\n",
        "salvate intr-un array x cu doua coloane.\n",
        "x = [[0, 1], [5, 1], [15, 2], [25, 5], [35, 11], [45, 15], [55, 34], [60, 35]]\n",
        "y = [4, 5, 20, 14, 32, 22, 38, 43]\n",
        "x, y = np.array(x), np.array(y)"
      ],
      "metadata": {
        "id": "TqHOeMwrjmRp"
      }
    },
    {
      "cell_type": "code",
      "source": [
        "b0=np.array([7,8,9,10,11,12]).reshape((-1,1))\n",
        "b1=np.array([7,22,16,34,24,40])\n",
        "model=LinearRegression()\n",
        "model.fit(b0,b1)\n",
        "model=LinearRegression().fit(b0,b1)\n",
        "y_pred=model.predict(x)\n",
        "print('rezultatul estimat:',y_pred,sep='\\n')"
      ],
      "metadata": {
        "id": "pXmuMOrujshd",
        "colab": {
          "base_uri": "https://localhost:8080/"
        },
        "outputId": "ac2b20e4-d4f1-4a86-ac7a-ca9bd29d8727"
      },
      "execution_count": 16,
      "outputs": [
        {
          "output_type": "stream",
          "name": "stdout",
          "text": [
            "rezultatul estimat:\n",
            "[-22.06666667 -16.66666667 -11.26666667  -5.86666667  -0.46666667\n",
            "   4.93333333]\n"
          ]
        }
      ]
    },
    {
      "cell_type": "code",
      "source": [
        "x=np.array([1,2,3,4,5,6]).reshape((-1,1))\n",
        "y=np.array([6,21,15,33,23,39])\n",
        "model = LinearRegression()\n",
        "model.fit(x, y)\n",
        "model = LinearRegression().fit(x, y)\n",
        "y_pred = model.predict(x)\n",
        "print('rezultatul estimat:', y_pred, sep='\\n')"
      ],
      "metadata": {
        "id": "UiHIs4u-jtn_",
        "colab": {
          "base_uri": "https://localhost:8080/"
        },
        "outputId": "44aba1b4-00dd-4354-94f6-74f3ab7d566b"
      },
      "execution_count": 12,
      "outputs": [
        {
          "output_type": "stream",
          "name": "stdout",
          "text": [
            "rezultatul estimat:\n",
            "[ 9.33333333 14.73333333 20.13333333 25.53333333 30.93333333 36.33333333]\n"
          ]
        }
      ]
    },
    {
      "cell_type": "code",
      "source": [
        "x = [[0, 1], [5, 1], [15, 2], [25, 5], [35, 11], [45, 15], [55, 34], [60, 35]]\n",
        "y = [4, 5, 20, 14, 32, 22, 38, 43]\n",
        "x, y = np.array(x), np.array(y)\n",
        "model = LinearRegression()\n",
        "model.fit(x, y)\n",
        "model = LinearRegression().fit(x, y)\n",
        "r = model.score(x, y)\n",
        "print('coeficientul de determinare R2:', r)\n",
        "print('b0:', model.intercept_)\n",
        "print('b1:', model.coef_)\n",
        "y_pred = model.predict(x)\n",
        "print('rezultatul estimat:', y_pred, sep='\\n')"
      ],
      "metadata": {
        "id": "JHAf_kHpjuXJ",
        "colab": {
          "base_uri": "https://localhost:8080/"
        },
        "outputId": "ae198ab9-a34e-4fe6-9f4f-c9f47e4dfabc"
      },
      "execution_count": 27,
      "outputs": [
        {
          "output_type": "stream",
          "name": "stdout",
          "text": [
            "coeficientul de determinare R2: 0.8615939258756775\n",
            "b0: 5.52257927519819\n",
            "b1: [0.44706965 0.25502548]\n",
            "rezultatul estimat:\n",
            "[ 5.77760476  8.012953   12.73867497 17.9744479  23.97529728 29.4660957\n",
            " 38.78227633 41.27265006]\n"
          ]
        }
      ]
    }
  ]
}