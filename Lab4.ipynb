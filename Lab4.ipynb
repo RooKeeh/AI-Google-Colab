{
  "nbformat": 4,
  "nbformat_minor": 0,
  "metadata": {
    "colab": {
      "provenance": [],
      "collapsed_sections": [
        "NOMg1hUqqM-C",
        "HuX2dNyqqScy",
        "Po8kEYjtqYiV",
        "BSvATcqsqduu",
        "2bT8II5gqq2w",
        "kcOEGYtnq-IO",
        "AqZxDAg8rMuV",
        "EtuVkjZ3rUkI",
        "Gx0zaZmmrhwN",
        "eP1T9eAGroGE",
        "osAWg3t6r0cf",
        "kXBFqm2LsAz8",
        "jq4VyApMsGNv"
      ],
      "authorship_tag": "ABX9TyPLu1vPFRdzPPqULutxzxBY",
      "include_colab_link": true
    },
    "kernelspec": {
      "name": "python3",
      "display_name": "Python 3"
    },
    "language_info": {
      "name": "python"
    }
  },
  "cells": [
    {
      "cell_type": "markdown",
      "metadata": {
        "id": "view-in-github",
        "colab_type": "text"
      },
      "source": [
        "<a href=\"https://colab.research.google.com/github/RooKeeh/AI-Google-Colab/blob/main/Lab4.ipynb\" target=\"_parent\"><img src=\"https://colab.research.google.com/assets/colab-badge.svg\" alt=\"Open In Colab\"/></a>"
      ]
    },
    {
      "cell_type": "markdown",
      "source": [
        "#Utilizarea Numpy"
      ],
      "metadata": {
        "id": "NOMg1hUqqM-C"
      }
    },
    {
      "cell_type": "code",
      "execution_count": null,
      "metadata": {
        "id": "gSarejIroWcI"
      },
      "outputs": [],
      "source": [
        "import numpy as np\n",
        "a=np.array([0,1,2,3])\n",
        "b=np.array([[0,1,2],[3,4,5]])"
      ]
    },
    {
      "cell_type": "markdown",
      "source": [
        "#Moduri de a crea matrici cu ajutorul numpy:"
      ],
      "metadata": {
        "id": "Po8kEYjtqYiV"
      }
    },
    {
      "cell_type": "code",
      "source": [
        "a = np.arange(10)\n",
        "b = np.arange(1, 9, 2)\n",
        "c = np.linspace(0, 1, 6)\n",
        "d = np.linspace(0, 1, 5, endpoint=False)\n",
        "e = np.ones((3, 3))\n",
        "f = np.zeros((2, 2))\n",
        "g = np.eye(3)\n",
        "h = np.diag(np.array([1, 2, 3, 4]))\n",
        "aa = np.random.rand(4)\n",
        "[0, 1]\n",
        "bb = np.random.randn(4)"
      ],
      "metadata": {
        "id": "ey5NnZJ8qDyu"
      },
      "execution_count": null,
      "outputs": []
    },
    {
      "cell_type": "markdown",
      "source": [
        "#Manipularea array-urilor"
      ],
      "metadata": {
        "id": "2bT8II5gqq2w"
      }
    },
    {
      "cell_type": "code",
      "source": [
        "a = np.arange(10)\n",
        "print(a[2:9:3])\n",
        "print(a[::-1])\n",
        "print(a[:4])"
      ],
      "metadata": {
        "colab": {
          "base_uri": "https://localhost:8080/"
        },
        "id": "sGfyv43Oq6TK",
        "outputId": "d6821d92-39e2-4099-ccae-8f792c833b79"
      },
      "execution_count": null,
      "outputs": [
        {
          "output_type": "stream",
          "name": "stdout",
          "text": [
            "[2 5 8]\n",
            "[9 8 7 6 5 4 3 2 1 0]\n",
            "[0 1 2 3]\n"
          ]
        }
      ]
    },
    {
      "cell_type": "markdown",
      "source": [
        "#Copii si imagini\n"
      ],
      "metadata": {
        "id": "AqZxDAg8rMuV"
      }
    },
    {
      "cell_type": "code",
      "source": [
        "a = np.arange(10)\n",
        "b = a[::2]\n",
        "print(a, b)\n",
        "b[0] = 12\n",
        "print(b)\n",
        "print(a)"
      ],
      "metadata": {
        "colab": {
          "base_uri": "https://localhost:8080/"
        },
        "id": "plaBNHeBrQPN",
        "outputId": "3ba7e116-e56c-43e3-8cf8-c923693f3c34"
      },
      "execution_count": null,
      "outputs": [
        {
          "output_type": "stream",
          "name": "stdout",
          "text": [
            "[0 1 2 3 4 5 6 7 8 9] [0 2 4 6 8]\n",
            "[12  2  4  6  8]\n",
            "[12  1  2  3  4  5  6  7  8  9]\n"
          ]
        }
      ]
    },
    {
      "cell_type": "code",
      "source": [
        "a = np.arange(10)\n",
        "c = a[::2].copy()\n",
        "c[0] = 12\n",
        "print(c)\n",
        "print(a)\n",
        "print(np.may_share_memory(a, c))"
      ],
      "metadata": {
        "colab": {
          "base_uri": "https://localhost:8080/"
        },
        "id": "gLIMR2Y5rShX",
        "outputId": "db972e84-084a-4484-a4b3-68ec59a5a3e9"
      },
      "execution_count": null,
      "outputs": [
        {
          "output_type": "stream",
          "name": "stdout",
          "text": [
            "[12  2  4  6  8]\n",
            "[0 1 2 3 4 5 6 7 8 9]\n",
            "False\n"
          ]
        }
      ]
    },
    {
      "cell_type": "markdown",
      "source": [
        "#Operatii matematice de baza"
      ],
      "metadata": {
        "id": "EtuVkjZ3rUkI"
      }
    },
    {
      "cell_type": "code",
      "source": [
        "a = np.array([1, 2, 3, 4])\n",
        "print(a + 1)\n",
        "print(2**a)\n",
        "b= np.ones(4) + 1\n",
        "print(a-b, a*b)"
      ],
      "metadata": {
        "colab": {
          "base_uri": "https://localhost:8080/"
        },
        "id": "5a3ziKIDrW3Y",
        "outputId": "59bd1c64-8dda-4764-dd8a-a2d55a3a219a"
      },
      "execution_count": null,
      "outputs": [
        {
          "output_type": "stream",
          "name": "stdout",
          "text": [
            "[2 3 4 5]\n",
            "[ 2  4  8 16]\n",
            "[-1.  0.  1.  2.] [2. 4. 6. 8.]\n"
          ]
        }
      ]
    },
    {
      "cell_type": "code",
      "source": [
        "c = np.ones((3, 3))\n",
        "print(c*c)\n",
        "print(c.dot(c))"
      ],
      "metadata": {
        "colab": {
          "base_uri": "https://localhost:8080/"
        },
        "id": "NgXA7OTqrZ6i",
        "outputId": "06cc85b0-7f79-40de-948e-6e1c23d88d78"
      },
      "execution_count": null,
      "outputs": [
        {
          "output_type": "stream",
          "name": "stdout",
          "text": [
            "[[1. 1. 1.]\n",
            " [1. 1. 1.]\n",
            " [1. 1. 1.]]\n",
            "[[3. 3. 3.]\n",
            " [3. 3. 3.]\n",
            " [3. 3. 3.]]\n"
          ]
        }
      ]
    },
    {
      "cell_type": "code",
      "source": [
        "a = np.array([1, 2, 3, 4])\n",
        "b = np.array([4, 2, 2, 4])\n",
        "c = np.array([1, 2, 3, 4])\n",
        "print(a==b)\n",
        "print(a>b)\n",
        "print(np.array_equal(a, b))\n",
        "print(np.array_equal(a, c))"
      ],
      "metadata": {
        "colab": {
          "base_uri": "https://localhost:8080/"
        },
        "id": "HeZQl3rOrbgp",
        "outputId": "32b6dc96-371d-41ad-b19c-dc3ba869574c"
      },
      "execution_count": null,
      "outputs": [
        {
          "output_type": "stream",
          "name": "stdout",
          "text": [
            "[False  True False  True]\n",
            "[False False  True False]\n",
            "False\n",
            "True\n"
          ]
        }
      ]
    },
    {
      "cell_type": "code",
      "source": [
        "x=np.ones((4,4))\n",
        "a = np.array([1, 2, 3, 4])\n",
        "x[0,:]=a\n",
        "print(x.T)"
      ],
      "metadata": {
        "colab": {
          "base_uri": "https://localhost:8080/"
        },
        "id": "wgsTvl51rbcu",
        "outputId": "584fe8fc-2698-4053-e4e4-c3e2ab671015"
      },
      "execution_count": null,
      "outputs": [
        {
          "output_type": "stream",
          "name": "stdout",
          "text": [
            "[[1. 1. 1. 1.]\n",
            " [2. 1. 1. 1.]\n",
            " [3. 1. 1. 1.]\n",
            " [4. 1. 1. 1.]]\n"
          ]
        }
      ]
    },
    {
      "cell_type": "markdown",
      "source": [
        "#Utilizarea Matplotlib"
      ],
      "metadata": {
        "id": "Gx0zaZmmrhwN"
      }
    },
    {
      "cell_type": "code",
      "source": [
        "import matplotlib.pyplot as plt"
      ],
      "metadata": {
        "id": "oixUZJqKrlek"
      },
      "execution_count": null,
      "outputs": []
    },
    {
      "cell_type": "markdown",
      "source": [
        "#Grafice simple: Unidimensionale:"
      ],
      "metadata": {
        "id": "eP1T9eAGroGE"
      }
    },
    {
      "cell_type": "code",
      "source": [
        "x = np.linspace(0, 3, 20)\n",
        "y = np.linspace(0, 9, 20)\n",
        "plt.plot(x, y)\n",
        "plt.plot(x, y, 'o')\n",
        "plt.show()"
      ],
      "metadata": {
        "colab": {
          "base_uri": "https://localhost:8080/",
          "height": 265
        },
        "id": "ZyZKvIG_rtJl",
        "outputId": "da1c0ec1-adf8-4d75-99d2-a13b6a57d8ae"
      },
      "execution_count": null,
      "outputs": [
        {
          "output_type": "display_data",
          "data": {
            "text/plain": [
              "<Figure size 432x288 with 1 Axes>"
            ],
            "image/png": "[encoded data removed]"
          },
          "metadata": {
            "needs_background": "light"
          }
        }
      ]
    },
    {
      "cell_type": "markdown",
      "source": [
        "#Bidimensionale:"
      ],
      "metadata": {
        "id": "osAWg3t6r0cf"
      }
    },
    {
      "cell_type": "code",
      "source": [
        "image = np.random.rand(30, 30)\n",
        "plt.imshow(image, cmap=plt.cm.hot)\n",
        "plt.colorbar()\n",
        "plt.show() "
      ],
      "metadata": {
        "colab": {
          "base_uri": "https://localhost:8080/",
          "height": 266
        },
        "id": "YAjfd7yxr3XN",
        "outputId": "7ff58784-fb36-4953-c560-b330f18a9bb7"
      },
      "execution_count": null,
      "outputs": [
        {
          "output_type": "display_data",
          "data": {
            "text/plain": [
              "<Figure size 432x288 with 2 Axes>"
            ],
            "image/png": "[encoded data removed]"
          },
          "metadata": {
            "needs_background": "light"
          }
        }
      ]
    },
    {
      "cell_type": "markdown",
      "source": [
        "#np.linspace()"
      ],
      "metadata": {
        "id": "kXBFqm2LsAz8"
      }
    },
    {
      "cell_type": "code",
      "source": [
        "X = np.linspace(-np.pi, np.pi, 256, endpoint=True)\n",
        "C, S = np.cos(X), np.sin(X)\n",
        "plt.plot(X, C)\n",
        "plt.plot(X, S)\n",
        "plt.show()"
      ],
      "metadata": {
        "colab": {
          "base_uri": "https://localhost:8080/",
          "height": 265
        },
        "id": "mkZAVrv2r9j3",
        "outputId": "dd4a71ad-ca7b-4ff6-a4b3-f2747a829912"
      },
      "execution_count": null,
      "outputs": [
        {
          "output_type": "display_data",
          "data": {
            "text/plain": [
              "<Figure size 432x288 with 1 Axes>"
            ],
            "image/png": "[encoded data removed]"
          },
          "metadata": {
            "needs_background": "light"
          }
        }
      ]
    },
    {
      "cell_type": "markdown",
      "source": [
        "#Personalizarea graficului"
      ],
      "metadata": {
        "id": "jq4VyApMsGNv"
      }
    },
    {
      "cell_type": "code",
      "source": [
        "plt.figure(figsize=(8, 6), dpi=80)\n",
        "plt.subplot(1, 1, 1)\n",
        "X = np.linspace(-np.pi, np.pi, 256, endpoint=True)\n",
        "C, S = np.cos(X), np.sin(X)\n",
        "plt.plot(X, C, color=\"blue\", linewidth=1.0,\n",
        "linestyle=\"-\", label=\"cosinus\")\n",
        "plt.plot(X, S, color=\"green\", linewidth=1.0,\n",
        "linestyle=\"-\", label=\"cosinus\")\n",
        "plt.xlim(-4.0, 4.0)\n",
        "plt.xticks(np.linspace(-4, 4, 9, endpoint=True))\n",
        "plt.ylim(-1.0, 1.0)\n",
        "plt.yticks(np.linspace(-1, 1, 5, endpoint=True))\n",
        "plt.legend(loc='upper left')\n",
        "plt.savefig(\"graphic_ex.png\", dpi=72)\n",
        "plt.show()"
      ],
      "metadata": {
        "colab": {
          "base_uri": "https://localhost:8080/",
          "height": 417
        },
        "id": "ZRuU-OS1sHza",
        "outputId": "30043811-3e88-49aa-d32b-d7b0bbdd3ef3"
      },
      "execution_count": null,
      "outputs": [
        {
          "output_type": "display_data",
          "data": {
            "text/plain": [
              "<Figure size 640x480 with 1 Axes>"
            ],
            "image/png": "[encoded data removed]"
          },
          "metadata": {
            "needs_background": "light"
          }
        }
      ]
    }
  ]
}