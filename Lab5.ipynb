{
  "nbformat": 4,
  "nbformat_minor": 0,
  "metadata": {
    "colab": {
      "provenance": [],
      "collapsed_sections": [
        "lbqND8Fx0Csm",
        "BjYE54J1drzo",
        "eW_JZ-S2d-oK",
        "fXYsz4_Yen1w",
        "GDVzPtnre2ml",
        "VCQ1kq2GfRpR",
        "Cly03m-If0tr",
        "81vXTiUxgTHY",
        "tj7tryfjhLb7",
        "wAaMEg-KhrcD",
        "guD3SNoxiqp9",
        "JCA4u35xjAPT",
        "tk8lzQ-SjDy3",
        "KXockslFj9-k",
        "v9-hEjkmkkPS",
        "ruDjbyggk20q",
        "t6Kd1h8ulBEM",
        "-FkMZTOglxtM",
        "8_uSy8ommZN3",
        "QBdRePwhmvJt",
        "0hvZy73wngPP"
      ],
      "authorship_tag": "ABX9TyPF7o6sDjVULiOa3Tujc5Vj",
      "include_colab_link": true
    },
    "kernelspec": {
      "name": "python3",
      "display_name": "Python 3"
    },
    "language_info": {
      "name": "python"
    }
  },
  "cells": [
    {
      "cell_type": "markdown",
      "metadata": {
        "id": "view-in-github",
        "colab_type": "text"
      },
      "source": [
        "<a href=\"https://colab.research.google.com/github/RooKeeh/AI-Google-Colab/blob/main/Lab5.ipynb\" target=\"_parent\"><img src=\"https://colab.research.google.com/assets/colab-badge.svg\" alt=\"Open In Colab\"/></a>"
      ]
    },
    {
      "cell_type": "markdown",
      "source": [
        "#Secventa de elemente"
      ],
      "metadata": {
        "id": "lbqND8Fx0Csm"
      }
    },
    {
      "cell_type": "code",
      "execution_count": 1,
      "metadata": {
        "id": "f5N7xVj9z4jh",
        "colab": {
          "base_uri": "https://localhost:8080/"
        },
        "outputId": "f1836231-2c55-40d8-e023-928a3fe16119"
      },
      "outputs": [
        {
          "output_type": "stream",
          "name": "stdout",
          "text": [
            "['Cheddar', 'Edam', 'Gouda'] [17, 123] []\n"
          ]
        }
      ],
      "source": [
        "cheeses=['Cheddar','Edam','Gouda']\n",
        "numbers=[17,123]\n",
        "empty=[]\n",
        "print(cheeses,numbers,empty)"
      ]
    },
    {
      "cell_type": "markdown",
      "source": [
        "#Listele sunt movibile"
      ],
      "metadata": {
        "id": "BjYE54J1drzo"
      }
    },
    {
      "cell_type": "code",
      "source": [
        "print(cheeses[0])"
      ],
      "metadata": {
        "colab": {
          "base_uri": "https://localhost:8080/"
        },
        "id": "YP0fDwkIdy7A",
        "outputId": "f64e2753-6df4-4774-cc04-ced670f0d66e"
      },
      "execution_count": 2,
      "outputs": [
        {
          "output_type": "stream",
          "name": "stdout",
          "text": [
            "Cheddar\n"
          ]
        }
      ]
    },
    {
      "cell_type": "code",
      "source": [
        "numbers=[17,123]\n",
        "numbers[1]=5\n",
        "print(numbers)"
      ],
      "metadata": {
        "colab": {
          "base_uri": "https://localhost:8080/"
        },
        "id": "17ZDcNWEd2Qx",
        "outputId": "a50270ff-7c5c-4a39-c1f6-4cbe773908ef"
      },
      "execution_count": 3,
      "outputs": [
        {
          "output_type": "stream",
          "name": "stdout",
          "text": [
            "[17, 5]\n"
          ]
        }
      ]
    },
    {
      "cell_type": "markdown",
      "source": [
        "#Parcurgerea unei liste"
      ],
      "metadata": {
        "id": "eW_JZ-S2d-oK"
      }
    },
    {
      "cell_type": "code",
      "source": [
        "for cheese in cheeses:\n",
        "  print(cheese)"
      ],
      "metadata": {
        "colab": {
          "base_uri": "https://localhost:8080/"
        },
        "id": "gSB84dhWeAkJ",
        "outputId": "ee1238f9-84b0-4697-ccc4-a951a637720b"
      },
      "execution_count": 4,
      "outputs": [
        {
          "output_type": "stream",
          "name": "stdout",
          "text": [
            "Cheddar\n",
            "Edam\n",
            "Gouda\n"
          ]
        }
      ]
    },
    {
      "cell_type": "code",
      "source": [
        "for i in range(len(numbers)):\n",
        "  numbers[i]=numbers[i]*2"
      ],
      "metadata": {
        "id": "tZ0XuSYreHMz"
      },
      "execution_count": 5,
      "outputs": []
    },
    {
      "cell_type": "code",
      "source": [
        "for x in empty:\n",
        "  print('Nu se acceseaza.')"
      ],
      "metadata": {
        "id": "ljyVTLWXeV9y"
      },
      "execution_count": 6,
      "outputs": []
    },
    {
      "cell_type": "markdown",
      "source": [
        "#Operatii cu liste"
      ],
      "metadata": {
        "id": "fXYsz4_Yen1w"
      }
    },
    {
      "cell_type": "code",
      "source": [
        "a=[1,2,3]\n",
        "b=[4,5,6]\n",
        "c=a+b\n",
        "print(c)"
      ],
      "metadata": {
        "colab": {
          "base_uri": "https://localhost:8080/"
        },
        "id": "s7F3gDoDepM9",
        "outputId": "a008b84f-2848-4bd0-92e1-fd36bb35e216"
      },
      "execution_count": 7,
      "outputs": [
        {
          "output_type": "stream",
          "name": "stdout",
          "text": [
            "[1, 2, 3, 4, 5, 6]\n"
          ]
        }
      ]
    },
    {
      "cell_type": "code",
      "source": [
        "[0]*4"
      ],
      "metadata": {
        "colab": {
          "base_uri": "https://localhost:8080/"
        },
        "id": "he9I5suleu2U",
        "outputId": "0963afb9-0d60-4de3-d639-494df59a26a1"
      },
      "execution_count": 8,
      "outputs": [
        {
          "output_type": "execute_result",
          "data": {
            "text/plain": [
              "[0, 0, 0, 0]"
            ]
          },
          "metadata": {},
          "execution_count": 8
        }
      ]
    },
    {
      "cell_type": "code",
      "source": [
        "[1,2,3]*3"
      ],
      "metadata": {
        "colab": {
          "base_uri": "https://localhost:8080/"
        },
        "id": "DY0AXslPexZI",
        "outputId": "60e5134d-4bcc-4d24-aa82-bd0fb1081e9a"
      },
      "execution_count": 9,
      "outputs": [
        {
          "output_type": "execute_result",
          "data": {
            "text/plain": [
              "[1, 2, 3, 1, 2, 3, 1, 2, 3]"
            ]
          },
          "metadata": {},
          "execution_count": 9
        }
      ]
    },
    {
      "cell_type": "markdown",
      "source": [
        "#Felierea listelor"
      ],
      "metadata": {
        "id": "GDVzPtnre2ml"
      }
    },
    {
      "cell_type": "code",
      "source": [
        "t=['a','b','c','d','e','f']\n",
        "t[1:3]"
      ],
      "metadata": {
        "colab": {
          "base_uri": "https://localhost:8080/"
        },
        "id": "T9G7ZhCme3_0",
        "outputId": "57809172-32e4-4ec3-b281-ef2462d84753"
      },
      "execution_count": 10,
      "outputs": [
        {
          "output_type": "execute_result",
          "data": {
            "text/plain": [
              "['b', 'c']"
            ]
          },
          "metadata": {},
          "execution_count": 10
        }
      ]
    },
    {
      "cell_type": "code",
      "source": [
        "t[:4]"
      ],
      "metadata": {
        "colab": {
          "base_uri": "https://localhost:8080/"
        },
        "id": "yVAdRhzZfAMF",
        "outputId": "410121be-94ee-4847-f60e-8990b5ef53b1"
      },
      "execution_count": 11,
      "outputs": [
        {
          "output_type": "execute_result",
          "data": {
            "text/plain": [
              "['a', 'b', 'c', 'd']"
            ]
          },
          "metadata": {},
          "execution_count": 11
        }
      ]
    },
    {
      "cell_type": "code",
      "source": [
        "t[3:]"
      ],
      "metadata": {
        "colab": {
          "base_uri": "https://localhost:8080/"
        },
        "id": "-mSyVZA_fBpF",
        "outputId": "e4cfe08b-4a15-4e42-a9b3-053231488510"
      },
      "execution_count": 12,
      "outputs": [
        {
          "output_type": "execute_result",
          "data": {
            "text/plain": [
              "['d', 'e', 'f']"
            ]
          },
          "metadata": {},
          "execution_count": 12
        }
      ]
    },
    {
      "cell_type": "code",
      "source": [
        "t[:]"
      ],
      "metadata": {
        "colab": {
          "base_uri": "https://localhost:8080/"
        },
        "id": "or3XMCWjfDwj",
        "outputId": "2f8f3299-d851-4f09-9b42-a16f96677927"
      },
      "execution_count": 13,
      "outputs": [
        {
          "output_type": "execute_result",
          "data": {
            "text/plain": [
              "['a', 'b', 'c', 'd', 'e', 'f']"
            ]
          },
          "metadata": {},
          "execution_count": 13
        }
      ]
    },
    {
      "cell_type": "code",
      "source": [
        "t=['a','b','c','d','e','f']\n",
        "t[1:3]=['x','y']\n",
        "print(t)"
      ],
      "metadata": {
        "colab": {
          "base_uri": "https://localhost:8080/"
        },
        "id": "PKZGZswsfHKY",
        "outputId": "b8ac87fc-ae00-4d26-b939-a6665dd1491b"
      },
      "execution_count": 14,
      "outputs": [
        {
          "output_type": "stream",
          "name": "stdout",
          "text": [
            "['a', 'x', 'y', 'd', 'e', 'f']\n"
          ]
        }
      ]
    },
    {
      "cell_type": "markdown",
      "source": [
        "#Metode aplicate listelor"
      ],
      "metadata": {
        "id": "VCQ1kq2GfRpR"
      }
    },
    {
      "cell_type": "code",
      "source": [
        "t1=['a','b','c']\n",
        "t.append('d')\n",
        "print(t)"
      ],
      "metadata": {
        "colab": {
          "base_uri": "https://localhost:8080/"
        },
        "id": "HoRHtJezfTZp",
        "outputId": "2defe964-f365-48f1-fab9-929f7c2fcb5a"
      },
      "execution_count": 15,
      "outputs": [
        {
          "output_type": "stream",
          "name": "stdout",
          "text": [
            "['a', 'x', 'y', 'd', 'e', 'f', 'd']\n"
          ]
        }
      ]
    },
    {
      "cell_type": "code",
      "source": [
        "t1=['a','b','c']\n",
        "t2=['d','e']\n",
        "t1.extend(t2)\n",
        "print(t1)"
      ],
      "metadata": {
        "colab": {
          "base_uri": "https://localhost:8080/"
        },
        "id": "NYWII4xVfbqh",
        "outputId": "3ad0245d-78b3-47af-fd51-d18d4ca01965"
      },
      "execution_count": 16,
      "outputs": [
        {
          "output_type": "stream",
          "name": "stdout",
          "text": [
            "['a', 'b', 'c', 'd', 'e']\n"
          ]
        }
      ]
    },
    {
      "cell_type": "code",
      "source": [
        "t=['d','c','e','b','a']\n",
        "t.sort()\n",
        "print(t)"
      ],
      "metadata": {
        "colab": {
          "base_uri": "https://localhost:8080/"
        },
        "id": "flE3XpLKfqqS",
        "outputId": "69d23ab0-395c-4ae1-d01e-dfb68aa61a9b"
      },
      "execution_count": 17,
      "outputs": [
        {
          "output_type": "stream",
          "name": "stdout",
          "text": [
            "['a', 'b', 'c', 'd', 'e']\n"
          ]
        }
      ]
    },
    {
      "cell_type": "markdown",
      "source": [
        "#Stergerea elementelor"
      ],
      "metadata": {
        "id": "Cly03m-If0tr"
      }
    },
    {
      "cell_type": "code",
      "source": [
        "t=['a','b','c']\n",
        "x=t.pop(1)\n",
        "print(t)"
      ],
      "metadata": {
        "colab": {
          "base_uri": "https://localhost:8080/"
        },
        "id": "Q5KQYHnIf2k-",
        "outputId": "e1cc44f0-03c7-4bd3-dded-341933aaa779"
      },
      "execution_count": 18,
      "outputs": [
        {
          "output_type": "stream",
          "name": "stdout",
          "text": [
            "['a', 'c']\n"
          ]
        }
      ]
    },
    {
      "cell_type": "code",
      "source": [
        "print(x)"
      ],
      "metadata": {
        "colab": {
          "base_uri": "https://localhost:8080/"
        },
        "id": "oea82Duyf7fN",
        "outputId": "a60dfc8b-41cf-4b1f-e8e9-97cf783a8bf1"
      },
      "execution_count": 19,
      "outputs": [
        {
          "output_type": "stream",
          "name": "stdout",
          "text": [
            "b\n"
          ]
        }
      ]
    },
    {
      "cell_type": "code",
      "source": [
        "t=['a','b','c']\n",
        "del t[1]\n",
        "print(t)"
      ],
      "metadata": {
        "colab": {
          "base_uri": "https://localhost:8080/"
        },
        "id": "rnPa7fPhf9QW",
        "outputId": "688de947-f478-4555-c96d-0f077719de56"
      },
      "execution_count": 20,
      "outputs": [
        {
          "output_type": "stream",
          "name": "stdout",
          "text": [
            "['a', 'c']\n"
          ]
        }
      ]
    },
    {
      "cell_type": "code",
      "source": [
        "t=['a','b','c']\n",
        "t.remove('b')\n",
        "print(t)"
      ],
      "metadata": {
        "colab": {
          "base_uri": "https://localhost:8080/"
        },
        "id": "p6MfAr-igD74",
        "outputId": "02b9d47d-863b-47bc-dc9e-20688886850c"
      },
      "execution_count": 21,
      "outputs": [
        {
          "output_type": "stream",
          "name": "stdout",
          "text": [
            "['a', 'c']\n"
          ]
        }
      ]
    },
    {
      "cell_type": "code",
      "source": [
        "t=['a','b','c','d','e','f']\n",
        "del t[1:5]\n",
        "print(t)"
      ],
      "metadata": {
        "colab": {
          "base_uri": "https://localhost:8080/"
        },
        "id": "iZSEvy6zgJi1",
        "outputId": "933c6b6e-8eb5-49d4-8cc6-6d0e60d9d1a2"
      },
      "execution_count": 22,
      "outputs": [
        {
          "output_type": "stream",
          "name": "stdout",
          "text": [
            "['a', 'f']\n"
          ]
        }
      ]
    },
    {
      "cell_type": "markdown",
      "source": [
        "#Liste si functii"
      ],
      "metadata": {
        "id": "81vXTiUxgTHY"
      }
    },
    {
      "cell_type": "code",
      "source": [
        "nums=[3,41,12,9,74,15]\n",
        "print(len(nums))"
      ],
      "metadata": {
        "colab": {
          "base_uri": "https://localhost:8080/"
        },
        "id": "aqv9clh4gVGt",
        "outputId": "7eb394cf-7c07-4e6d-9f32-d7a56cae100a"
      },
      "execution_count": 23,
      "outputs": [
        {
          "output_type": "stream",
          "name": "stdout",
          "text": [
            "6\n"
          ]
        }
      ]
    },
    {
      "cell_type": "code",
      "source": [
        "print(max(nums))"
      ],
      "metadata": {
        "colab": {
          "base_uri": "https://localhost:8080/"
        },
        "id": "PJQiIOYngf0B",
        "outputId": "9f95e1a1-bf42-4886-c21b-161acb7f0aec"
      },
      "execution_count": 24,
      "outputs": [
        {
          "output_type": "stream",
          "name": "stdout",
          "text": [
            "74\n"
          ]
        }
      ]
    },
    {
      "cell_type": "code",
      "source": [
        "print(min(nums))"
      ],
      "metadata": {
        "colab": {
          "base_uri": "https://localhost:8080/"
        },
        "id": "DhvSE-dfgiHJ",
        "outputId": "84c78746-0ed1-40d9-a009-bb5a9a7dbf96"
      },
      "execution_count": 25,
      "outputs": [
        {
          "output_type": "stream",
          "name": "stdout",
          "text": [
            "3\n"
          ]
        }
      ]
    },
    {
      "cell_type": "code",
      "source": [
        "print(sum(nums))"
      ],
      "metadata": {
        "colab": {
          "base_uri": "https://localhost:8080/"
        },
        "id": "gAvao5fEgkBJ",
        "outputId": "f657b598-68d1-400d-c134-9519f6d61cb9"
      },
      "execution_count": 26,
      "outputs": [
        {
          "output_type": "stream",
          "name": "stdout",
          "text": [
            "154\n"
          ]
        }
      ]
    },
    {
      "cell_type": "code",
      "source": [
        "print(sum(nums)/len(nums))"
      ],
      "metadata": {
        "colab": {
          "base_uri": "https://localhost:8080/"
        },
        "id": "5UXqiC0Vgl8f",
        "outputId": "6c4d37f8-94ca-4872-c187-b44f1450aff1"
      },
      "execution_count": 27,
      "outputs": [
        {
          "output_type": "stream",
          "name": "stdout",
          "text": [
            "25.666666666666668\n"
          ]
        }
      ]
    },
    {
      "cell_type": "code",
      "source": [
        "total = 0\n",
        "count = 0\n",
        "while (True):\n",
        " inp = input('Dati un nr: ')\n",
        " if inp == 'gata': \n",
        "   break\n",
        " val = float(inp)\n",
        " total = total + val\n",
        " count = count + 1\n",
        "media = total / count\n",
        "print('Media:', media)"
      ],
      "metadata": {
        "colab": {
          "base_uri": "https://localhost:8080/"
        },
        "id": "VvQp7Ztkgwq4",
        "outputId": "305184ac-2133-40f8-a61a-990e13d53880"
      },
      "execution_count": 28,
      "outputs": [
        {
          "output_type": "stream",
          "name": "stdout",
          "text": [
            "Dati un nr: 1\n",
            "Dati un nr: 2\n",
            "Dati un nr: 3\n",
            "Dati un nr: 4\n",
            "Dati un nr: 5\n",
            "Dati un nr: gata\n",
            "Media: 3.0\n"
          ]
        }
      ]
    },
    {
      "cell_type": "code",
      "source": [
        "numlist = list()\n",
        "while (True):\n",
        " inp = input('Enter a number: ')\n",
        " if inp == 'done':\n",
        "  break\n",
        " value = float(inp)\n",
        " numlist.append(value)\n",
        "media = sum(numlist) / len(numlist)\n",
        "print('Media:', media)"
      ],
      "metadata": {
        "colab": {
          "base_uri": "https://localhost:8080/"
        },
        "id": "dLw2ysskhARw",
        "outputId": "33c2496c-6e92-44f2-ff6f-0272ee847311"
      },
      "execution_count": 29,
      "outputs": [
        {
          "output_type": "stream",
          "name": "stdout",
          "text": [
            "Enter a number: 1\n",
            "Enter a number: 2\n",
            "Enter a number: 3\n",
            "Enter a number: 4\n",
            "Enter a number: 5\n",
            "Enter a number: done\n",
            "Media: 3.0\n"
          ]
        }
      ]
    },
    {
      "cell_type": "markdown",
      "source": [
        "#Liste si siruri de caractere"
      ],
      "metadata": {
        "id": "tj7tryfjhLb7"
      }
    },
    {
      "cell_type": "code",
      "source": [
        "s='spam'\n",
        "t=list(s)\n",
        "print(t)"
      ],
      "metadata": {
        "colab": {
          "base_uri": "https://localhost:8080/"
        },
        "id": "icnzZUEhhNgE",
        "outputId": "d0b49dfa-6b23-4d59-e6c8-cfad9587150c"
      },
      "execution_count": 30,
      "outputs": [
        {
          "output_type": "stream",
          "name": "stdout",
          "text": [
            "['s', 'p', 'a', 'm']\n"
          ]
        }
      ]
    },
    {
      "cell_type": "code",
      "source": [
        "s='pining for the fjords'\n",
        "t=s.split()\n",
        "print(t)"
      ],
      "metadata": {
        "colab": {
          "base_uri": "https://localhost:8080/"
        },
        "id": "PmWYzztNhRdu",
        "outputId": "def55b16-6aa8-4b1e-e306-faf10fbd2500"
      },
      "execution_count": 31,
      "outputs": [
        {
          "output_type": "stream",
          "name": "stdout",
          "text": [
            "['pining', 'for', 'the', 'fjords']\n"
          ]
        }
      ]
    },
    {
      "cell_type": "code",
      "source": [
        "print(t[2])"
      ],
      "metadata": {
        "colab": {
          "base_uri": "https://localhost:8080/"
        },
        "id": "ao1tIlN6hW1L",
        "outputId": "74322c9c-58c2-4722-dc8a-0f0784ba7e36"
      },
      "execution_count": 32,
      "outputs": [
        {
          "output_type": "stream",
          "name": "stdout",
          "text": [
            "the\n"
          ]
        }
      ]
    },
    {
      "cell_type": "code",
      "source": [
        "s='spam-spam-spam'\n",
        "delimiter='-'\n",
        "s.split(delimiter)"
      ],
      "metadata": {
        "colab": {
          "base_uri": "https://localhost:8080/"
        },
        "id": "xRwc8Ix8hZRx",
        "outputId": "446518fc-cc04-44cc-c9ef-d383c869ce24"
      },
      "execution_count": 33,
      "outputs": [
        {
          "output_type": "execute_result",
          "data": {
            "text/plain": [
              "['spam', 'spam', 'spam']"
            ]
          },
          "metadata": {},
          "execution_count": 33
        }
      ]
    },
    {
      "cell_type": "code",
      "source": [
        "t=['Ana','are','mere','multe']\n",
        "delimiter=' '\n",
        "delimiter.join(t)"
      ],
      "metadata": {
        "colab": {
          "base_uri": "https://localhost:8080/",
          "height": 36
        },
        "id": "OEhIsevDhg5W",
        "outputId": "81808c59-0069-4aaa-f3ae-1f29925f2c8e"
      },
      "execution_count": 35,
      "outputs": [
        {
          "output_type": "execute_result",
          "data": {
            "text/plain": [
              "'Ana are mere multe'"
            ],
            "application/vnd.google.colaboratory.intrinsic+json": {
              "type": "string"
            }
          },
          "metadata": {},
          "execution_count": 35
        }
      ]
    },
    {
      "cell_type": "markdown",
      "source": [
        "#Parsarea liniilor"
      ],
      "metadata": {
        "id": "wAaMEg-KhrcD"
      }
    },
    {
      "cell_type": "code",
      "source": [
        "fhand=open('mbox-short.txt')\n",
        "for line in fhand:\n",
        "  if not line.startswith('From '):\n",
        "    continue\n",
        "  words=line.split()\n",
        "  print(words[2])"
      ],
      "metadata": {
        "colab": {
          "base_uri": "https://localhost:8080/"
        },
        "id": "Wsu2K1CPhtTe",
        "outputId": "ba6c1a96-56ad-46df-e22c-381cfd32d792"
      },
      "execution_count": 39,
      "outputs": [
        {
          "output_type": "stream",
          "name": "stdout",
          "text": [
            "Sat\n",
            "Fri\n",
            "Fri\n",
            "Fri\n",
            "Fri\n",
            "Fri\n",
            "Fri\n",
            "Fri\n",
            "Fri\n",
            "Fri\n",
            "Fri\n",
            "Fri\n",
            "Fri\n",
            "Fri\n",
            "Fri\n",
            "Fri\n",
            "Fri\n",
            "Fri\n",
            "Fri\n",
            "Fri\n",
            "Fri\n",
            "Thu\n",
            "Thu\n",
            "Thu\n",
            "Thu\n",
            "Thu\n",
            "Thu\n"
          ]
        }
      ]
    },
    {
      "cell_type": "markdown",
      "source": [
        "#Obiecte si valori"
      ],
      "metadata": {
        "id": "guD3SNoxiqp9"
      }
    },
    {
      "cell_type": "code",
      "source": [
        "a='banana'\n",
        "b='banana'\n",
        "a is b"
      ],
      "metadata": {
        "colab": {
          "base_uri": "https://localhost:8080/"
        },
        "id": "D3OBLzpXis2f",
        "outputId": "d9ab24de-5970-4088-b910-d46c0b10b9dd"
      },
      "execution_count": 40,
      "outputs": [
        {
          "output_type": "execute_result",
          "data": {
            "text/plain": [
              "True"
            ]
          },
          "metadata": {},
          "execution_count": 40
        }
      ]
    },
    {
      "cell_type": "code",
      "source": [
        "a=[1,2,3]\n",
        "b=[1,2,3]\n",
        "a is b"
      ],
      "metadata": {
        "colab": {
          "base_uri": "https://localhost:8080/"
        },
        "id": "s27EKjdciwpv",
        "outputId": "30645999-619c-408a-cd8c-5049365cdbb3"
      },
      "execution_count": 41,
      "outputs": [
        {
          "output_type": "execute_result",
          "data": {
            "text/plain": [
              "False"
            ]
          },
          "metadata": {},
          "execution_count": 41
        }
      ]
    },
    {
      "cell_type": "code",
      "source": [
        "a=[1,2,3]\n",
        "b=a\n",
        "b is a"
      ],
      "metadata": {
        "colab": {
          "base_uri": "https://localhost:8080/"
        },
        "id": "qwai0TFOi0eR",
        "outputId": "7448e712-ea5b-4280-de74-e3d2c878d81e"
      },
      "execution_count": 42,
      "outputs": [
        {
          "output_type": "execute_result",
          "data": {
            "text/plain": [
              "True"
            ]
          },
          "metadata": {},
          "execution_count": 42
        }
      ]
    },
    {
      "cell_type": "code",
      "source": [
        "b[0]=17\n",
        "print(a)\n",
        "[17,2,3]"
      ],
      "metadata": {
        "colab": {
          "base_uri": "https://localhost:8080/"
        },
        "id": "nWieJNuti4Ks",
        "outputId": "7831fbc0-e302-4780-bbec-5e8fe82ea872"
      },
      "execution_count": 43,
      "outputs": [
        {
          "output_type": "stream",
          "name": "stdout",
          "text": [
            "[17, 2, 3]\n"
          ]
        },
        {
          "output_type": "execute_result",
          "data": {
            "text/plain": [
              "[17, 2, 3]"
            ]
          },
          "metadata": {},
          "execution_count": 43
        }
      ]
    },
    {
      "cell_type": "markdown",
      "source": [
        "#Exercitiu\n",
        "Scrieți un program care deschide fișierul romeo.txt și îl citește linie cu linie. Pentru fiecare linie, separati\n",
        "linia într-o listă de cuvinte folosind funcția split. Extrageți într-o altă listă cuvinte, astfel încât acestea să\n",
        "nu se repete (Verificați fiecare cuvânt daca este intr-o listă, iar dacă nu apare, adăugați-l). Când\n",
        "programul se termină, sortați și printați cuvintele din listă în ordine alfabetică."
      ],
      "metadata": {
        "id": "JCA4u35xjAPT"
      }
    },
    {
      "cell_type": "code",
      "source": [],
      "metadata": {
        "id": "QF65Z8OpjDRz"
      },
      "execution_count": null,
      "outputs": []
    },
    {
      "cell_type": "markdown",
      "source": [
        "#Dictionare"
      ],
      "metadata": {
        "id": "tk8lzQ-SjDy3"
      }
    },
    {
      "cell_type": "code",
      "source": [
        "engro=dict()\n",
        "print(engro)"
      ],
      "metadata": {
        "colab": {
          "base_uri": "https://localhost:8080/"
        },
        "id": "O_4sXyXUjHBZ",
        "outputId": "ef8eaa2b-f4bb-400b-ed17-abf4e4cdf5c7"
      },
      "execution_count": 44,
      "outputs": [
        {
          "output_type": "stream",
          "name": "stdout",
          "text": [
            "{}\n"
          ]
        }
      ]
    },
    {
      "cell_type": "code",
      "source": [
        "engro['one']='unu'\n",
        "print(engro)"
      ],
      "metadata": {
        "colab": {
          "base_uri": "https://localhost:8080/"
        },
        "id": "KzsYBKwZjVtk",
        "outputId": "be48541e-1e84-4394-b4e9-8f71fe20b9bf"
      },
      "execution_count": 46,
      "outputs": [
        {
          "output_type": "stream",
          "name": "stdout",
          "text": [
            "{'one': 'unu'}\n"
          ]
        }
      ]
    },
    {
      "cell_type": "code",
      "source": [
        "engro={'one':'unu','two':'doi','three':'trei'}\n",
        "print(engro)"
      ],
      "metadata": {
        "colab": {
          "base_uri": "https://localhost:8080/"
        },
        "id": "cEfp5TpxjcZ6",
        "outputId": "2dcd3c20-73e9-45c4-cd68-5996a5bdd575"
      },
      "execution_count": 47,
      "outputs": [
        {
          "output_type": "stream",
          "name": "stdout",
          "text": [
            "{'one': 'unu', 'two': 'doi', 'three': 'trei'}\n"
          ]
        }
      ]
    },
    {
      "cell_type": "code",
      "source": [
        "print(engro['two'])"
      ],
      "metadata": {
        "colab": {
          "base_uri": "https://localhost:8080/"
        },
        "id": "rWxiO7U-jlLr",
        "outputId": "88ea5558-14c8-4279-ea57-a32043b59185"
      },
      "execution_count": 48,
      "outputs": [
        {
          "output_type": "stream",
          "name": "stdout",
          "text": [
            "doi\n"
          ]
        }
      ]
    },
    {
      "cell_type": "code",
      "source": [
        "word='abracadabra'\n",
        "d=dict()\n",
        "for c in word:\n",
        "  if c not in d:\n",
        "    d[c]=1\n",
        "  else:\n",
        "    d[c]+=1\n",
        "print(d)"
      ],
      "metadata": {
        "colab": {
          "base_uri": "https://localhost:8080/"
        },
        "id": "tulKUiymjnl8",
        "outputId": "079a48f2-9640-4182-fe36-35a76f3b4b7e"
      },
      "execution_count": 49,
      "outputs": [
        {
          "output_type": "stream",
          "name": "stdout",
          "text": [
            "{'a': 5, 'b': 2, 'r': 2, 'c': 1, 'd': 1}\n"
          ]
        }
      ]
    },
    {
      "cell_type": "code",
      "source": [
        "print(d.get('a',0))"
      ],
      "metadata": {
        "colab": {
          "base_uri": "https://localhost:8080/"
        },
        "id": "J6DvFUD_jxgH",
        "outputId": "96eb19c9-f164-4e46-bcbd-3116a3bf8668"
      },
      "execution_count": 50,
      "outputs": [
        {
          "output_type": "stream",
          "name": "stdout",
          "text": [
            "5\n"
          ]
        }
      ]
    },
    {
      "cell_type": "code",
      "source": [
        "word='portocala'\n",
        "d=dict()\n",
        "for c in word:\n",
        "  d[c]=d.get(c,0)+1\n",
        "print(d)"
      ],
      "metadata": {
        "colab": {
          "base_uri": "https://localhost:8080/"
        },
        "id": "q1Rak60sj2Xd",
        "outputId": "283339a9-a29e-4b05-e711-e10c56cc3406"
      },
      "execution_count": 51,
      "outputs": [
        {
          "output_type": "stream",
          "name": "stdout",
          "text": [
            "{'p': 1, 'o': 2, 'r': 1, 't': 1, 'c': 1, 'a': 2, 'l': 1}\n"
          ]
        }
      ]
    },
    {
      "cell_type": "markdown",
      "source": [
        "#Dictionare si fisiere"
      ],
      "metadata": {
        "id": "KXockslFj9-k"
      }
    },
    {
      "cell_type": "code",
      "source": [
        "fname=input('Nume fisier: ')\n",
        "try:\n",
        "  f=open(fname)\n",
        "except:\n",
        "  print('Fisierul nu a fost gasit:',fname)\n",
        "  exit()\n",
        "counts=dict()\n",
        "for line in f:\n",
        "  words=line.split()\n",
        "  for word in words:\n",
        "    if word not in counts:\n",
        "      counts[word]=1\n",
        "    else:\n",
        "      counts[word]+=1\n",
        "print(counts)"
      ],
      "metadata": {
        "colab": {
          "base_uri": "https://localhost:8080/"
        },
        "id": "oqXXiOiEkAEQ",
        "outputId": "b3de4ee3-4704-429c-be45-7f91b2fe7438"
      },
      "execution_count": 79,
      "outputs": [
        {
          "output_type": "stream",
          "name": "stdout",
          "text": [
            "Nume fisier: romeo.txt\n",
            "{'But': 1, 'soft': 1, 'what': 1, 'light': 1, 'through': 1, 'yonder': 1, 'window': 1, 'breaks': 1, 'It': 1, 'is': 3, 'the': 3, 'east': 1, 'and': 3, 'Juliet': 1, 'sun': 2, 'Arise': 1, 'fair': 1, 'kill': 1, 'envious': 1, 'moon': 1, 'Who': 1, 'already': 1, 'sick': 1, 'pale': 1, 'with': 1, 'grief': 1}\n"
          ]
        }
      ]
    },
    {
      "cell_type": "markdown",
      "source": [
        "#Bucle si dictionare"
      ],
      "metadata": {
        "id": "v9-hEjkmkkPS"
      }
    },
    {
      "cell_type": "code",
      "source": [
        "counts={'chuck':1,'annie':42,'jan':100}\n",
        "lst=list(counts.keys())\n",
        "print(lst)\n",
        "lst.sort()\n",
        "for key in lst:\n",
        "  print(key,counts[key])"
      ],
      "metadata": {
        "colab": {
          "base_uri": "https://localhost:8080/"
        },
        "id": "uEGNkV-iklzv",
        "outputId": "e26c2f67-3bfe-4b32-b4cf-d18635f4b2dd"
      },
      "execution_count": 54,
      "outputs": [
        {
          "output_type": "stream",
          "name": "stdout",
          "text": [
            "['chuck', 'annie', 'jan']\n",
            "annie 42\n",
            "chuck 1\n",
            "jan 100\n"
          ]
        }
      ]
    },
    {
      "cell_type": "markdown",
      "source": [
        "#Exercitii\n",
        "1. Scrieți un program care numără câte emailuri au fost primite în fiecare zi a săptămânii, în fișierul\n",
        "“mbox-short.txt” . Pentru aceasta trebuie identificate liniile care încep cu “From ” și căutat al\n",
        "treilea cuvânt din linie. Un contor va fi incrementat la fiecare apariție a unei zile din săptămână.\n",
        "La final se afișează conținutul dicționarului.\n",
        "2. Scrieți un program care parcurge fișierul de mai sus și calculează câte emailuri au fost primite de la fiecare adresă, iar\n",
        "apoi afișează continutul dicționarului."
      ],
      "metadata": {
        "id": "ruDjbyggk20q"
      }
    },
    {
      "cell_type": "code",
      "source": [],
      "metadata": {
        "id": "rbZZvTpzlAVB"
      },
      "execution_count": null,
      "outputs": []
    },
    {
      "cell_type": "markdown",
      "source": [
        "#Tuple: Definitie"
      ],
      "metadata": {
        "id": "t6Kd1h8ulBEM"
      }
    },
    {
      "cell_type": "code",
      "source": [
        "t='a','b','c','d','e'"
      ],
      "metadata": {
        "id": "r7j4qy93lKVR"
      },
      "execution_count": 55,
      "outputs": []
    },
    {
      "cell_type": "code",
      "source": [
        "t=('a','b','c','d','e')"
      ],
      "metadata": {
        "id": "A2zWbpr4lOhy"
      },
      "execution_count": 56,
      "outputs": []
    },
    {
      "cell_type": "code",
      "source": [
        "t1=('a',)\n",
        "type(t1)"
      ],
      "metadata": {
        "colab": {
          "base_uri": "https://localhost:8080/"
        },
        "id": "W1jhUQFSlRuZ",
        "outputId": "c1c48ed3-4349-44eb-9246-ecffbffd1a4f"
      },
      "execution_count": 57,
      "outputs": [
        {
          "output_type": "execute_result",
          "data": {
            "text/plain": [
              "tuple"
            ]
          },
          "metadata": {},
          "execution_count": 57
        }
      ]
    },
    {
      "cell_type": "code",
      "source": [
        "t2=('a')\n",
        "type(t2)"
      ],
      "metadata": {
        "colab": {
          "base_uri": "https://localhost:8080/"
        },
        "id": "B2FWrD02lWfv",
        "outputId": "ba1da919-3814-4680-d418-109eeea12438"
      },
      "execution_count": 58,
      "outputs": [
        {
          "output_type": "execute_result",
          "data": {
            "text/plain": [
              "str"
            ]
          },
          "metadata": {},
          "execution_count": 58
        }
      ]
    },
    {
      "cell_type": "code",
      "source": [
        "t=tuple('abracadabra')\n",
        "print(t)"
      ],
      "metadata": {
        "colab": {
          "base_uri": "https://localhost:8080/"
        },
        "id": "Zjdh3IoflaCG",
        "outputId": "3120a552-fe1e-4ff7-b637-d257e56171af"
      },
      "execution_count": 59,
      "outputs": [
        {
          "output_type": "stream",
          "name": "stdout",
          "text": [
            "('a', 'b', 'r', 'a', 'c', 'a', 'd', 'a', 'b', 'r', 'a')\n"
          ]
        }
      ]
    },
    {
      "cell_type": "code",
      "source": [
        "t=('a','b','c','d','e')\n",
        "print(t[0])"
      ],
      "metadata": {
        "colab": {
          "base_uri": "https://localhost:8080/"
        },
        "id": "1o7Hbn-vletu",
        "outputId": "16129ff1-52c4-424c-e845-2ecd98ce4ecd"
      },
      "execution_count": 60,
      "outputs": [
        {
          "output_type": "stream",
          "name": "stdout",
          "text": [
            "a\n"
          ]
        }
      ]
    },
    {
      "cell_type": "code",
      "source": [
        "print(t[1:3])"
      ],
      "metadata": {
        "colab": {
          "base_uri": "https://localhost:8080/"
        },
        "id": "b6-LGHU4lkHM",
        "outputId": "9976575e-cb89-42e5-e421-30001d2cdf51"
      },
      "execution_count": 61,
      "outputs": [
        {
          "output_type": "stream",
          "name": "stdout",
          "text": [
            "('b', 'c')\n"
          ]
        }
      ]
    },
    {
      "cell_type": "code",
      "source": [
        "t[0]='A'"
      ],
      "metadata": {
        "colab": {
          "base_uri": "https://localhost:8080/",
          "height": 165
        },
        "id": "KN-024L3lnXf",
        "outputId": "5f99169d-a183-4eba-bbcb-1f0a22fdc740"
      },
      "execution_count": 63,
      "outputs": [
        {
          "output_type": "error",
          "ename": "TypeError",
          "evalue": "ignored",
          "traceback": [
            "\u001b[0;31m---------------------------------------------------------------------------\u001b[0m",
            "\u001b[0;31mTypeError\u001b[0m                                 Traceback (most recent call last)",
            "\u001b[0;32m<ipython-input-63-2cabaacd7cc5>\u001b[0m in \u001b[0;36m<module>\u001b[0;34m\u001b[0m\n\u001b[0;32m----> 1\u001b[0;31m \u001b[0mt\u001b[0m\u001b[0;34m[\u001b[0m\u001b[0;36m0\u001b[0m\u001b[0;34m]\u001b[0m\u001b[0;34m=\u001b[0m\u001b[0;34m'A'\u001b[0m\u001b[0;34m\u001b[0m\u001b[0;34m\u001b[0m\u001b[0m\n\u001b[0m",
            "\u001b[0;31mTypeError\u001b[0m: 'tuple' object does not support item assignment"
          ]
        }
      ]
    },
    {
      "cell_type": "code",
      "source": [
        "t=('A',)+t[1:]\n",
        "print(t)"
      ],
      "metadata": {
        "colab": {
          "base_uri": "https://localhost:8080/"
        },
        "id": "klAr1btUloXx",
        "outputId": "b7b52c18-e5fa-4137-d550-89d1bdbd7f44"
      },
      "execution_count": 64,
      "outputs": [
        {
          "output_type": "stream",
          "name": "stdout",
          "text": [
            "('A', 'b', 'c', 'd', 'e')\n"
          ]
        }
      ]
    },
    {
      "cell_type": "markdown",
      "source": [
        "#Compararea tuplelor"
      ],
      "metadata": {
        "id": "-FkMZTOglxtM"
      }
    },
    {
      "cell_type": "code",
      "source": [
        "(0,1,2)<(0,3,4)"
      ],
      "metadata": {
        "colab": {
          "base_uri": "https://localhost:8080/"
        },
        "id": "ejCd7kSdlzgX",
        "outputId": "44ea53d3-91b0-43cb-c9a1-c588ebef8757"
      },
      "execution_count": 65,
      "outputs": [
        {
          "output_type": "execute_result",
          "data": {
            "text/plain": [
              "True"
            ]
          },
          "metadata": {},
          "execution_count": 65
        }
      ]
    },
    {
      "cell_type": "code",
      "source": [
        "(0,1,2000000)<(0,3,4)"
      ],
      "metadata": {
        "colab": {
          "base_uri": "https://localhost:8080/"
        },
        "id": "s6AnfxZ-l464",
        "outputId": "4c3e7e9d-b7af-4100-8283-93b59c3db4d3"
      },
      "execution_count": 66,
      "outputs": [
        {
          "output_type": "execute_result",
          "data": {
            "text/plain": [
              "True"
            ]
          },
          "metadata": {},
          "execution_count": 66
        }
      ]
    },
    {
      "cell_type": "code",
      "source": [
        "txt='Ana are mere mari'\n",
        "words=txt.split()\n",
        "t=list()\n",
        "for word in words:\n",
        "  t.append((len(word),word))\n",
        "t.sort(reverse=True)\n",
        "res=list()\n",
        "for length, word in t:\n",
        "  res.append(word)\n",
        "print(res)"
      ],
      "metadata": {
        "colab": {
          "base_uri": "https://localhost:8080/"
        },
        "id": "7zRf1TZImC9R",
        "outputId": "a5199c33-f8f8-4727-f5f6-6543e37f5554"
      },
      "execution_count": 68,
      "outputs": [
        {
          "output_type": "stream",
          "name": "stdout",
          "text": [
            "['mere', 'mari', 'are', 'Ana']\n"
          ]
        }
      ]
    },
    {
      "cell_type": "markdown",
      "source": [
        "#Atribuirea tuplelor"
      ],
      "metadata": {
        "id": "8_uSy8ommZN3"
      }
    },
    {
      "cell_type": "code",
      "source": [
        "m=['have','fun']\n",
        "x,y=m\n",
        "x"
      ],
      "metadata": {
        "colab": {
          "base_uri": "https://localhost:8080/",
          "height": 36
        },
        "id": "7tDE1HmomYS5",
        "outputId": "c69f8302-bb0f-43da-c3f9-44879fa3391c"
      },
      "execution_count": 69,
      "outputs": [
        {
          "output_type": "execute_result",
          "data": {
            "text/plain": [
              "'have'"
            ],
            "application/vnd.google.colaboratory.intrinsic+json": {
              "type": "string"
            }
          },
          "metadata": {},
          "execution_count": 69
        }
      ]
    },
    {
      "cell_type": "code",
      "source": [
        "y"
      ],
      "metadata": {
        "colab": {
          "base_uri": "https://localhost:8080/",
          "height": 36
        },
        "id": "TjgjJSdemf8e",
        "outputId": "1d2ae0c6-a3c1-4795-a041-c1c2b5209825"
      },
      "execution_count": 70,
      "outputs": [
        {
          "output_type": "execute_result",
          "data": {
            "text/plain": [
              "'fun'"
            ],
            "application/vnd.google.colaboratory.intrinsic+json": {
              "type": "string"
            }
          },
          "metadata": {},
          "execution_count": 70
        }
      ]
    },
    {
      "cell_type": "code",
      "source": [
        "m=['have','fun']\n",
        "x=m[0]\n",
        "y=m[1]\n",
        "x"
      ],
      "metadata": {
        "colab": {
          "base_uri": "https://localhost:8080/",
          "height": 36
        },
        "id": "5bbm-0csmhKh",
        "outputId": "739ba83a-3e52-41c5-a351-04d1bd2c5941"
      },
      "execution_count": 71,
      "outputs": [
        {
          "output_type": "execute_result",
          "data": {
            "text/plain": [
              "'have'"
            ],
            "application/vnd.google.colaboratory.intrinsic+json": {
              "type": "string"
            }
          },
          "metadata": {},
          "execution_count": 71
        }
      ]
    },
    {
      "cell_type": "code",
      "source": [
        "y"
      ],
      "metadata": {
        "colab": {
          "base_uri": "https://localhost:8080/",
          "height": 36
        },
        "id": "vZ2Fu63wml1w",
        "outputId": "ba3ef888-a89f-4059-c40b-2ac6112cba27"
      },
      "execution_count": 72,
      "outputs": [
        {
          "output_type": "execute_result",
          "data": {
            "text/plain": [
              "'fun'"
            ],
            "application/vnd.google.colaboratory.intrinsic+json": {
              "type": "string"
            }
          },
          "metadata": {},
          "execution_count": 72
        }
      ]
    },
    {
      "cell_type": "code",
      "source": [
        "a,b=b,a"
      ],
      "metadata": {
        "id": "fLh4ZdECmnm7"
      },
      "execution_count": 73,
      "outputs": []
    },
    {
      "cell_type": "code",
      "source": [
        "addr='montly@python.org'\n",
        "uname,domain=addr.split('@')"
      ],
      "metadata": {
        "id": "KXbpOcDpmpUm"
      },
      "execution_count": 74,
      "outputs": []
    },
    {
      "cell_type": "markdown",
      "source": [
        "#Dictionare si tuple"
      ],
      "metadata": {
        "id": "QBdRePwhmvJt"
      }
    },
    {
      "cell_type": "code",
      "source": [
        "d={'a':10,'b':1,'c':22}\n",
        "t=list(d.items())\n",
        "print(t)"
      ],
      "metadata": {
        "colab": {
          "base_uri": "https://localhost:8080/"
        },
        "id": "f9nHIPHzmwpb",
        "outputId": "400376fb-3356-4d7c-b4ea-1125314f5a84"
      },
      "execution_count": 75,
      "outputs": [
        {
          "output_type": "stream",
          "name": "stdout",
          "text": [
            "[('a', 10), ('b', 1), ('c', 22)]\n"
          ]
        }
      ]
    },
    {
      "cell_type": "code",
      "source": [
        "d={'a':10,'b':1,'c':22}\n",
        "t=list(d.items())\n",
        "t"
      ],
      "metadata": {
        "colab": {
          "base_uri": "https://localhost:8080/"
        },
        "id": "EO64mQXam8Pk",
        "outputId": "2ac0cd24-e886-4622-ed41-0ae8e563d5e2"
      },
      "execution_count": 76,
      "outputs": [
        {
          "output_type": "execute_result",
          "data": {
            "text/plain": [
              "[('a', 10), ('b', 1), ('c', 22)]"
            ]
          },
          "metadata": {},
          "execution_count": 76
        }
      ]
    },
    {
      "cell_type": "code",
      "source": [
        "t.sort()\n",
        "t"
      ],
      "metadata": {
        "colab": {
          "base_uri": "https://localhost:8080/"
        },
        "id": "G6L6UKbDnVGK",
        "outputId": "2e59cb70-476b-4025-8b9c-23882ffd4b0f"
      },
      "execution_count": 77,
      "outputs": [
        {
          "output_type": "execute_result",
          "data": {
            "text/plain": [
              "[('a', 10), ('b', 1), ('c', 22)]"
            ]
          },
          "metadata": {},
          "execution_count": 77
        }
      ]
    },
    {
      "cell_type": "code",
      "source": [
        "for key,val in list(d.items()):\n",
        "  print(val,key)"
      ],
      "metadata": {
        "colab": {
          "base_uri": "https://localhost:8080/"
        },
        "id": "xGsSWrUUnaM_",
        "outputId": "e2770bae-6e78-417b-f536-8aa2564f8e11"
      },
      "execution_count": 78,
      "outputs": [
        {
          "output_type": "stream",
          "name": "stdout",
          "text": [
            "10 a\n",
            "1 b\n",
            "22 c\n"
          ]
        }
      ]
    },
    {
      "cell_type": "markdown",
      "source": [
        "#Exercitiu\n",
        "Realizati un program care calculeaza distributia emailurilor din fisierul mbox-short.txt in functie de ora,\n",
        "pentru fiecare mesaj transmis. Ora poate fi extrasa din linia ce incepe cu “From” prin identificarea sirului\n",
        "de caractere ce contine ora si apoi impartirea lui folosind caracterul “:”."
      ],
      "metadata": {
        "id": "0hvZy73wngPP"
      }
    },
    {
      "cell_type": "code",
      "source": [],
      "metadata": {
        "id": "HRmHGHEDnf6-"
      },
      "execution_count": null,
      "outputs": []
    }
  ]
}