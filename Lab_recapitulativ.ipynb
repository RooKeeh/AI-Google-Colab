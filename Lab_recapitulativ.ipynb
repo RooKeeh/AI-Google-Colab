{
  "nbformat": 4,
  "nbformat_minor": 0,
  "metadata": {
    "colab": {
      "provenance": [],
      "include_colab_link": true
    },
    "kernelspec": {
      "name": "python3",
      "display_name": "Python 3"
    },
    "language_info": {
      "name": "python"
    }
  },
  "cells": [
    {
      "cell_type": "markdown",
      "metadata": {
        "id": "view-in-github",
        "colab_type": "text"
      },
      "source": [
        "<a href=\"https://colab.research.google.com/github/RooKeeh/AI-Google-Colab/blob/main/Lab_recapitulativ.ipynb\" target=\"_parent\"><img src=\"https://colab.research.google.com/assets/colab-badge.svg\" alt=\"Open In Colab\"/></a>"
      ]
    },
    {
      "cell_type": "markdown",
      "source": [
        "**Laborator recapitulativ Machine Learning**"
      ],
      "metadata": {
        "id": "tL8wgUpmLu2A"
      }
    },
    {
      "cell_type": "markdown",
      "source": [
        "Salvati acest notebook in drive, iar dupa rezolvare incarcati linkul de sharing in assignementul de pe moodle aferent laboratorului."
      ],
      "metadata": {
        "id": "GgXA7007ZvJU"
      }
    },
    {
      "cell_type": "markdown",
      "source": [
        "***Cerinte***\n",
        "\n",
        "\n",
        "1.   Descarcati un set de date pentru clasificare de pe platforma [kaggle.com ](https://kaggle.com ). [Exemplu de cautare: https://www.kaggle.com/datasets?search=classification ]\n",
        "2.   Puteti utiliza Numpy sau/si Pandas pentru a incarca setul de date.\n",
        "3. Realizati vizualizari ale variabilelor din setul de date pentru a observa distributia (folositi matplotlib).\n",
        "4. Impartiti setul de date in training (70%) si validare (30%).\n",
        "4. Adaugati 3 algoritmi diferiti de clasificare pe care sa ii rulati pe setul de training si sa verificati performanta pe setul de validare. Utilizati ***accuracy*** ca si masura a performantei.\n",
        "5. Afisati automat cea mai buna performanta si numele algoritmului castigator.\n",
        "\n",
        "Utilizati template-ul de mai jos pentru a introduce codul aferent.\n",
        "\n",
        "\n",
        "\n",
        "\n"
      ],
      "metadata": {
        "id": "XWgDqCcMMHAR"
      }
    },
    {
      "cell_type": "markdown",
      "source": [
        "Import bibilioteci:"
      ],
      "metadata": {
        "id": "hhIuqsEfaIMk"
      }
    },
    {
      "cell_type": "code",
      "execution_count": null,
      "metadata": {
        "id": "YJt8uyTxLh4a"
      },
      "outputs": [],
      "source": [
        "#Introduceti aici codul pentru importul tuturor bibliotecilor folosite"
      ]
    },
    {
      "cell_type": "markdown",
      "source": [
        "Incarcare date:"
      ],
      "metadata": {
        "id": "20BYFoh3aQe9"
      }
    },
    {
      "cell_type": "code",
      "source": [
        "#Introuceti aici codul pentru incarcarea setului de date"
      ],
      "metadata": {
        "id": "QGDp0jRFaUfr"
      },
      "execution_count": null,
      "outputs": []
    },
    {
      "cell_type": "markdown",
      "source": [
        "Vizualizari:"
      ],
      "metadata": {
        "id": "C0fqidyaabrm"
      }
    },
    {
      "cell_type": "code",
      "source": [
        "#Introduceti aici codul pentru realizarea vizualizarilor"
      ],
      "metadata": {
        "id": "C0W9ppL-aeBT"
      },
      "execution_count": null,
      "outputs": []
    },
    {
      "cell_type": "markdown",
      "source": [
        "Partitionare date:"
      ],
      "metadata": {
        "id": "HTB0Q9lCai72"
      }
    },
    {
      "cell_type": "code",
      "source": [
        "#Introduceti aici codul pentru partitionarea datelor 70% training-30% validare"
      ],
      "metadata": {
        "id": "FqOiu3ynalms"
      },
      "execution_count": null,
      "outputs": []
    },
    {
      "cell_type": "markdown",
      "source": [
        "Algoritm 1 (Regresie logistica):"
      ],
      "metadata": {
        "id": "AUfbuKLMasTq"
      }
    },
    {
      "cell_type": "code",
      "source": [
        "#Introduceti aici codul pentru clasificare folosind regresie logistica"
      ],
      "metadata": {
        "id": "ueOrLkW8ap37"
      },
      "execution_count": null,
      "outputs": []
    },
    {
      "cell_type": "markdown",
      "source": [
        "Algoritm 2 (Arbori de decizie):"
      ],
      "metadata": {
        "id": "gztIrMMMa45s"
      }
    },
    {
      "cell_type": "code",
      "source": [
        "#Introduceti aici codul pentru clasificare folosind un arbore de decizie"
      ],
      "metadata": {
        "id": "T5UdW_xMa9-c"
      },
      "execution_count": null,
      "outputs": []
    },
    {
      "cell_type": "markdown",
      "source": [
        "Algoritm 3 (Retele neuronale):"
      ],
      "metadata": {
        "id": "yDFwvWRbbC5s"
      }
    },
    {
      "cell_type": "code",
      "source": [
        "#Introduceti aici codul pentru clasificare folosind o retea neuronala"
      ],
      "metadata": {
        "id": "Ydqea46wbBxj"
      },
      "execution_count": null,
      "outputs": []
    },
    {
      "cell_type": "markdown",
      "source": [
        "Comparati performantele celor 3 algoritmi:"
      ],
      "metadata": {
        "id": "IohFbeG8bKT7"
      }
    },
    {
      "cell_type": "code",
      "source": [
        "##Introduceti aici codul pentru afisarea algoritmului cu performanta cea mai ridicata si a valorii accuracy"
      ],
      "metadata": {
        "id": "8wSh0asTbQmb"
      },
      "execution_count": null,
      "outputs": []
    },
    {
      "cell_type": "markdown",
      "source": [
        "---\n",
        "***Nu uitati sa incarcati linkul in assignementul laboratorului pe moodle***"
      ],
      "metadata": {
        "id": "7l-FVEbGbaVd"
      }
    }
  ]
}