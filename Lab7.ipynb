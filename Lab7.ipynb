{
  "nbformat": 4,
  "nbformat_minor": 0,
  "metadata": {
    "colab": {
      "provenance": [],
      "collapsed_sections": [
        "5lmvjNIKkUV2",
        "0kEGK6n7lC0-",
        "YVrf3PMDofj2"
      ],
      "authorship_tag": "ABX9TyMpncIhZt7OusvQG8quT/HD",
      "include_colab_link": true
    },
    "kernelspec": {
      "name": "python3",
      "display_name": "Python 3"
    },
    "language_info": {
      "name": "python"
    }
  },
  "cells": [
    {
      "cell_type": "markdown",
      "metadata": {
        "id": "view-in-github",
        "colab_type": "text"
      },
      "source": [
        "<a href=\"https://colab.research.google.com/github/RooKeeh/AI-Google-Colab/blob/main/Lab7.ipynb\" target=\"_parent\"><img src=\"https://colab.research.google.com/assets/colab-badge.svg\" alt=\"Open In Colab\"/></a>"
      ]
    },
    {
      "cell_type": "markdown",
      "source": [
        "#Utilizare pandas"
      ],
      "metadata": {
        "id": "5lmvjNIKkUV2"
      }
    },
    {
      "cell_type": "code",
      "execution_count": 1,
      "metadata": {
        "id": "8r2gd7j5jp5M"
      },
      "outputs": [],
      "source": [
        "import pandas as pd\n",
        "dict_={'a':[11,21,31],'b':[12,22,32]}\n",
        "df=pd.DataFrame(dict_)"
      ]
    },
    {
      "cell_type": "code",
      "source": [
        "print(df.head())\n",
        "print(df.mean())"
      ],
      "metadata": {
        "colab": {
          "base_uri": "https://localhost:8080/"
        },
        "id": "V6-NxYH1p1zx",
        "outputId": "1ad17d56-4466-4506-dda4-738b08bb646c"
      },
      "execution_count": 25,
      "outputs": [
        {
          "output_type": "stream",
          "name": "stdout",
          "text": [
            "    a   b\n",
            "0  11  12\n",
            "1  21  22\n",
            "2  31  32\n",
            "a    21.0\n",
            "b    22.0\n",
            "dtype: float64\n"
          ]
        }
      ]
    },
    {
      "cell_type": "markdown",
      "source": [
        "#NBA API"
      ],
      "metadata": {
        "id": "0kEGK6n7lC0-"
      }
    },
    {
      "cell_type": "code",
      "source": [
        "!pip install nba_api"
      ],
      "metadata": {
        "colab": {
          "base_uri": "https://localhost:8080/"
        },
        "id": "oo-5b6b7lEEJ",
        "outputId": "297a01d2-8561-4723-a5db-c2ae51acf40c"
      },
      "execution_count": 3,
      "outputs": [
        {
          "output_type": "stream",
          "name": "stdout",
          "text": [
            "Looking in indexes: https://pypi.org/simple, https://us-python.pkg.dev/colab-wheels/public/simple/\n",
            "Collecting nba_api\n",
            "  Downloading nba_api-1.1.13-py3-none-any.whl (255 kB)\n",
            "\u001b[K     |████████████████████████████████| 255 kB 4.3 MB/s \n",
            "\u001b[?25hRequirement already satisfied: requests in /usr/local/lib/python3.7/dist-packages (from nba_api) (2.23.0)\n",
            "Requirement already satisfied: numpy in /usr/local/lib/python3.7/dist-packages (from nba_api) (1.21.6)\n",
            "Requirement already satisfied: urllib3!=1.25.0,!=1.25.1,<1.26,>=1.21.1 in /usr/local/lib/python3.7/dist-packages (from requests->nba_api) (1.24.3)\n",
            "Requirement already satisfied: certifi>=2017.4.17 in /usr/local/lib/python3.7/dist-packages (from requests->nba_api) (2022.9.24)\n",
            "Requirement already satisfied: idna<3,>=2.5 in /usr/local/lib/python3.7/dist-packages (from requests->nba_api) (2.10)\n",
            "Requirement already satisfied: chardet<4,>=3.0.2 in /usr/local/lib/python3.7/dist-packages (from requests->nba_api) (3.0.4)\n",
            "Installing collected packages: nba-api\n",
            "Successfully installed nba-api-1.1.13\n"
          ]
        }
      ]
    },
    {
      "cell_type": "code",
      "source": [
        "from nba_api.stats.static import teams #https://pypi.org/project/nba-api\n",
        "import matplotlib.pyplot as plt\n",
        "nba_teams=teams.get_teams()\n",
        "print(nba_teams[0:3])"
      ],
      "metadata": {
        "colab": {
          "base_uri": "https://localhost:8080/"
        },
        "id": "AFHkcATjln5k",
        "outputId": "42b3d975-84c6-434e-9d9e-f12583e5aaa8"
      },
      "execution_count": 4,
      "outputs": [
        {
          "output_type": "stream",
          "name": "stdout",
          "text": [
            "[{'id': 1610612737, 'full_name': 'Atlanta Hawks', 'abbreviation': 'ATL', 'nickname': 'Hawks', 'city': 'Atlanta', 'state': 'Atlanta', 'year_founded': 1949}, {'id': 1610612738, 'full_name': 'Boston Celtics', 'abbreviation': 'BOS', 'nickname': 'Celtics', 'city': 'Boston', 'state': 'Massachusetts', 'year_founded': 1946}, {'id': 1610612739, 'full_name': 'Cleveland Cavaliers', 'abbreviation': 'CLE', 'nickname': 'Cavaliers', 'city': 'Cleveland', 'state': 'Ohio', 'year_founded': 1970}]\n"
          ]
        }
      ]
    },
    {
      "cell_type": "code",
      "source": [
        "def one_dict(list_dict):\n",
        "  keys=list_dict[0].keys()\n",
        "  out_dict={key:[] for key in keys}\n",
        "  for dict_ in list_dict:\n",
        "    for key,value in dict_.items():\n",
        "      out_dict[key].append(value)\n",
        "  return out_dict"
      ],
      "metadata": {
        "id": "hT6yP7eNl9Kf"
      },
      "execution_count": 6,
      "outputs": []
    },
    {
      "cell_type": "code",
      "source": [
        "dict_nba_team=one_dict(nba_teams)\n",
        "df_teams=pd.DataFrame(dict_nba_team)\n",
        "print(df_teams.head())"
      ],
      "metadata": {
        "colab": {
          "base_uri": "https://localhost:8080/"
        },
        "id": "nftV6raxmTiH",
        "outputId": "7720f569-ba94-4da0-ee3b-e564b3f73862"
      },
      "execution_count": 7,
      "outputs": [
        {
          "output_type": "stream",
          "name": "stdout",
          "text": [
            "           id             full_name abbreviation   nickname         city  \\\n",
            "0  1610612737         Atlanta Hawks          ATL      Hawks      Atlanta   \n",
            "1  1610612738        Boston Celtics          BOS    Celtics       Boston   \n",
            "2  1610612739   Cleveland Cavaliers          CLE  Cavaliers    Cleveland   \n",
            "3  1610612740  New Orleans Pelicans          NOP   Pelicans  New Orleans   \n",
            "4  1610612741         Chicago Bulls          CHI      Bulls      Chicago   \n",
            "\n",
            "           state  year_founded  \n",
            "0        Atlanta          1949  \n",
            "1  Massachusetts          1946  \n",
            "2           Ohio          1970  \n",
            "3      Louisiana          2002  \n",
            "4       Illinois          1966  \n"
          ]
        }
      ]
    },
    {
      "cell_type": "code",
      "source": [
        "df_warriors=df_teams[df_teams['nickname']=='Warriors']\n",
        "print(df_warriors)\n",
        "id_warriors=df_warriors[['id']].values[0][0]\n",
        "print(id_warriors)"
      ],
      "metadata": {
        "colab": {
          "base_uri": "https://localhost:8080/"
        },
        "id": "SPEFcXjimh1L",
        "outputId": "dd8148a9-a54b-4729-b170-51297b7e0284"
      },
      "execution_count": 10,
      "outputs": [
        {
          "output_type": "stream",
          "name": "stdout",
          "text": [
            "           id              full_name abbreviation  nickname          city  \\\n",
            "7  1610612744  Golden State Warriors          GSW  Warriors  Golden State   \n",
            "\n",
            "        state  year_founded  \n",
            "7  California          1946  \n",
            "1610612744\n"
          ]
        }
      ]
    },
    {
      "cell_type": "code",
      "source": [
        "from nba_api.stats.endpoints import leaguegamefinder\n",
        "gamefinder=leaguegamefinder.LeagueGameFinder(team_id_nullable=id_warriors)"
      ],
      "metadata": {
        "id": "P54RkAjlm73F"
      },
      "execution_count": 14,
      "outputs": []
    },
    {
      "cell_type": "code",
      "source": [
        "games=gamefinder.get_data_frames()[0]\n",
        "print(games.head())"
      ],
      "metadata": {
        "colab": {
          "base_uri": "https://localhost:8080/"
        },
        "id": "w2yHosVjnMnG",
        "outputId": "79a40793-a8d6-41f7-b7ff-d6c414607f85"
      },
      "execution_count": 15,
      "outputs": [
        {
          "output_type": "stream",
          "name": "stdout",
          "text": [
            "  SEASON_ID     TEAM_ID TEAM_ABBREVIATION              TEAM_NAME     GAME_ID  \\\n",
            "0     22022  1610612744               GSW  Golden State Warriors  0022200220   \n",
            "1     22022  1610612744               GSW  Golden State Warriors  0022200205   \n",
            "2     22022  1610612744               GSW  Golden State Warriors  0022200197   \n",
            "3     22022  1610612744               GSW  Golden State Warriors  0022200182   \n",
            "4     22022  1610612744               GSW  Golden State Warriors  0022200156   \n",
            "\n",
            "    GAME_DATE      MATCHUP WL  MIN  PTS  ...  FT_PCT  OREB  DREB   REB  AST  \\\n",
            "0  2022-11-16    GSW @ PHX  L  240  119  ...   1.000   6.0  34.0  40.0   30   \n",
            "1  2022-11-14  GSW vs. SAS  W  239  132  ...   0.938   5.0  35.0  40.0   35   \n",
            "2  2022-11-13    GSW @ SAC  L  238  115  ...   0.938   8.0  35.0  43.0   27   \n",
            "3  2022-11-11  GSW vs. CLE  W  240  106  ...   0.786   8.0  36.0  44.0   29   \n",
            "4  2022-11-07  GSW vs. SAC  W  241  116  ...   0.667   8.0  40.0  48.0   28   \n",
            "\n",
            "   STL  BLK  TOV  PF  PLUS_MINUS  \n",
            "0    5    3   17  23       -11.0  \n",
            "1    9    3   12  17        37.0  \n",
            "2    5    5   18  20        -7.0  \n",
            "3    5    3   14  27         5.0  \n",
            "4    5    4   15  21         3.0  \n",
            "\n",
            "[5 rows x 28 columns]\n"
          ]
        }
      ]
    },
    {
      "cell_type": "code",
      "source": [
        "games_home=games[games['MATCHUP']=='GSW vs. TOR']\n",
        "games_away=games[games['MATCHUP']=='GSW @ TOR']"
      ],
      "metadata": {
        "id": "1pJynLydndRZ"
      },
      "execution_count": 16,
      "outputs": []
    },
    {
      "cell_type": "code",
      "source": [
        "games_home.mean()['PLUS_MINUS']\n",
        "games_away.mean()['PLUS_MINUS']"
      ],
      "metadata": {
        "colab": {
          "base_uri": "https://localhost:8080/"
        },
        "id": "sxeA6rGMn4DI",
        "outputId": "18811816-c2d1-4ad5-d14b-d4e6c358d69a"
      },
      "execution_count": 18,
      "outputs": [
        {
          "output_type": "stream",
          "name": "stderr",
          "text": [
            "/usr/local/lib/python3.7/dist-packages/ipykernel_launcher.py:1: FutureWarning: Dropping of nuisance columns in DataFrame reductions (with 'numeric_only=None') is deprecated; in a future version this will raise TypeError.  Select only valid columns before calling the reduction.\n",
            "  \"\"\"Entry point for launching an IPython kernel.\n",
            "/usr/local/lib/python3.7/dist-packages/ipykernel_launcher.py:2: FutureWarning: Dropping of nuisance columns in DataFrame reductions (with 'numeric_only=None') is deprecated; in a future version this will raise TypeError.  Select only valid columns before calling the reduction.\n",
            "  \n"
          ]
        },
        {
          "output_type": "execute_result",
          "data": {
            "text/plain": [
              "-2.966666666666667"
            ]
          },
          "metadata": {},
          "execution_count": 18
        }
      ]
    },
    {
      "cell_type": "code",
      "source": [
        "fig,ax=plt.subplots()\n",
        "games_away.plot(x='GAME_DATE',y='PLUS_MINUS',ax=ax)\n",
        "games_home.plot(x='GAME_DATE',y='PLUS_MINUS',ax=ax)\n",
        "ax.legend([\"away\",\"home\"])\n",
        "plt.show()"
      ],
      "metadata": {
        "colab": {
          "base_uri": "https://localhost:8080/",
          "height": 280
        },
        "id": "FqzdaCtEoFHr",
        "outputId": "e99ee008-4354-47aa-c618-cdf6df8f9e2d"
      },
      "execution_count": 19,
      "outputs": [
        {
          "output_type": "display_data",
          "data": {
            "text/plain": [
              "<Figure size 432x288 with 1 Axes>"
            ],
            "image/png": "[encoded data removed]"
          },
          "metadata": {
            "needs_background": "light"
          }
        }
      ]
    },
    {
      "cell_type": "markdown",
      "source": [
        "#Exercitii:\n",
        "1. Creati data-frame-uri si pt echipa “Cavaliers”.\n",
        "2. Afisati pe grafic si informatiile Cavaliers vs Raptors."
      ],
      "metadata": {
        "id": "YVrf3PMDofj2"
      }
    },
    {
      "cell_type": "code",
      "source": [
        "df_cavaliers=df_teams[df_teams['nickname']=='Cavaliers']\n",
        "print(df_cavaliers)\n",
        "id_cavaliers=df_cavaliers[['id']].values[0][0]\n",
        "print(id_cavaliers)\n",
        "from nba_api.stats.endpoints import leaguegamefinder\n",
        "gamefinder=leaguegamefinder.LeagueGameFinder(team_id_nullable=id_cavaliers)\n",
        "games=gamefinder.get_data_frames()[0]\n",
        "print(games.head())"
      ],
      "metadata": {
        "colab": {
          "base_uri": "https://localhost:8080/"
        },
        "id": "CzMdwOVFoizy",
        "outputId": "021f0e11-d3c0-4b73-9ce3-cc8f3582e670"
      },
      "execution_count": 20,
      "outputs": [
        {
          "output_type": "stream",
          "name": "stdout",
          "text": [
            "           id            full_name abbreviation   nickname       city state  \\\n",
            "2  1610612739  Cleveland Cavaliers          CLE  Cavaliers  Cleveland  Ohio   \n",
            "\n",
            "   year_founded  \n",
            "2          1970  \n",
            "1610612739\n",
            "  SEASON_ID     TEAM_ID TEAM_ABBREVIATION            TEAM_NAME     GAME_ID  \\\n",
            "0     22022  1610612739               CLE  Cleveland Cavaliers  0022200216   \n",
            "1     22022  1610612739               CLE  Cleveland Cavaliers  0022200193   \n",
            "2     22022  1610612739               CLE  Cleveland Cavaliers  0022200182   \n",
            "3     22022  1610612739               CLE  Cleveland Cavaliers  0022200171   \n",
            "4     22022  1610612739               CLE  Cleveland Cavaliers  0022200158   \n",
            "\n",
            "    GAME_DATE      MATCHUP WL  MIN  PTS  ...  FT_PCT  OREB  DREB  REB  AST  \\\n",
            "0  2022-11-16    CLE @ MIL  L  241   98  ...   0.824     6    28   34   22   \n",
            "1  2022-11-13  CLE vs. MIN  L  240  124  ...   0.692    16    24   40   22   \n",
            "2  2022-11-11    CLE @ GSW  L  240  101  ...   0.731    14    32   46   25   \n",
            "3  2022-11-09    CLE @ SAC  L  239  120  ...   0.850    12    30   42   24   \n",
            "4  2022-11-07    CLE @ LAC  L  241  117  ...   0.714    10    38   48   29   \n",
            "\n",
            "   STL  BLK  TOV  PF  PLUS_MINUS  \n",
            "0    7    7    8  18       -15.0  \n",
            "1    6    1   10  22        -5.0  \n",
            "2    6    3   10  17        -5.0  \n",
            "3    4    1   18  23        -7.0  \n",
            "4    6    2   17  21        -2.0  \n",
            "\n",
            "[5 rows x 28 columns]\n"
          ]
        }
      ]
    },
    {
      "cell_type": "code",
      "source": [
        "games_home=games[games['MATCHUP']=='CLE vs. TOR']\n",
        "games_away=games[games['MATCHUP']=='CLE @ TOR']\n",
        "fig,ax=plt.subplots()\n",
        "games_away.plot(x='GAME_DATE',y='PLUS_MINUS',ax=ax)\n",
        "games_home.plot(x='GAME_DATE',y='PLUS_MINUS',ax=ax)\n",
        "ax.legend([\"away\",\"home\"])\n",
        "plt.show()"
      ],
      "metadata": {
        "colab": {
          "base_uri": "https://localhost:8080/",
          "height": 280
        },
        "id": "VQV40C2FpI7L",
        "outputId": "67b6ef19-ac76-42ab-d2fd-5bbb78ad12d2"
      },
      "execution_count": 24,
      "outputs": [
        {
          "output_type": "display_data",
          "data": {
            "text/plain": [
              "<Figure size 432x288 with 1 Axes>"
            ],
            "image/png": "[encoded data removed]"
          },
          "metadata": {
            "needs_background": "light"
          }
        }
      ]
    }
  ]
}