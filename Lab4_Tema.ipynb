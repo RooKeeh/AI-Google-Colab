{
  "nbformat": 4,
  "nbformat_minor": 0,
  "metadata": {
    "colab": {
      "provenance": [],
      "authorship_tag": "ABX9TyMxBYVTMSWqW/4lFpW/luR2",
      "include_colab_link": true
    },
    "kernelspec": {
      "name": "python3",
      "display_name": "Python 3"
    },
    "language_info": {
      "name": "python"
    }
  },
  "cells": [
    {
      "cell_type": "markdown",
      "metadata": {
        "id": "view-in-github",
        "colab_type": "text"
      },
      "source": [
        "<a href=\"https://colab.research.google.com/github/RooKeeh/AI-Google-Colab/blob/main/Lab4_Tema.ipynb\" target=\"_parent\"><img src=\"https://colab.research.google.com/assets/colab-badge.svg\" alt=\"Open In Colab\"/></a>"
      ]
    },
    {
      "cell_type": "markdown",
      "source": [
        "#Tema\n",
        "In fisierul populatii.txt sunt descrise populațiile de iepuri, lincși și morcovi din Canada, pe o perioadă de 20 de ani.\n",
        "\n",
        "Plecând de la codul sursă de mai jos, calculați fără a folosi cicluri for/while:\n",
        "\n",
        "a)     Media și variația standard pentru fiecare specie.\n",
        "\n",
        "b)    Care specie are cea mai mare populație?\n",
        "\n",
        "c)     In ce ani, orice populație este mai mare de 50 000? (np.any)\n",
        "\n",
        "d)    Primii 2 ani pentru fiecare specie în care au avut cele mai mici populații (argsort)\n",
        "\n",
        "e)     Realizati un grafic de comparație a populației de iepuri și lincși. Verificați corelația. (np.gradient, np.corrcoef)"
      ],
      "metadata": {
        "id": "PHbAlocUY0fe"
      }
    },
    {
      "cell_type": "code",
      "source": [
        "import numpy as np\n",
        "data=np.loadtxt('populatii.txt')\n",
        "an,iepure,linx,morcov=data.T\n",
        "import matplotlib.pyplot as plt\n",
        "print('Pentru iepuri, media este:',np.average(iepure),'si variatia standard este:',np.std(iepure))\n",
        "print('Pentru lincsi, media este:',np.average(linx),'si variatia standard este:',np.std(linx))\n",
        "print('Pentru morcovi, media este:',np.average(morcov),'si variatia standard este:',np.std(morcov))"
      ],
      "metadata": {
        "colab": {
          "base_uri": "https://localhost:8080/"
        },
        "id": "R_cjc5-djjFl",
        "outputId": "52ad9cb1-7554-428f-d919-a57a66f80a22"
      },
      "execution_count": 361,
      "outputs": [
        {
          "output_type": "stream",
          "name": "stdout",
          "text": [
            "Pentru iepuri, media este: 34080.95238095238 si variatia standard este: 20897.906458089667\n",
            "Pentru lincsi, media este: 20166.666666666668 si variatia standard este: 16254.591536908763\n",
            "Pentru morcovi, media este: 42400.0 si variatia standard este: 3322.5062255844787\n"
          ]
        }
      ]
    },
    {
      "cell_type": "code",
      "source": [
        "print(max(np.max(iepure),np.max(linx),np.max(morcov)))"
      ],
      "metadata": {
        "colab": {
          "base_uri": "https://localhost:8080/"
        },
        "id": "0sfafvh2jfHm",
        "outputId": "f20405b8-669a-4c79-9248-b3cb790751fe"
      },
      "execution_count": 362,
      "outputs": [
        {
          "output_type": "stream",
          "name": "stdout",
          "text": [
            "77400.0\n"
          ]
        }
      ]
    },
    {
      "cell_type": "code",
      "source": [
        "print(np.any(print(an[np.where(iepure>50000)]) or print(an[np.where(linx>50000)]) or print(an[np.where(morcov>50000)])))"
      ],
      "metadata": {
        "colab": {
          "base_uri": "https://localhost:8080/"
        },
        "id": "Kdczgw9iVm8x",
        "outputId": "e61de404-aeae-41a8-dec0-4bee5e8fe3d7"
      },
      "execution_count": 363,
      "outputs": [
        {
          "output_type": "stream",
          "name": "stdout",
          "text": [
            "[1902. 1903. 1912. 1913. 1914.]\n",
            "[1904. 1915.]\n",
            "[]\n",
            "None\n"
          ]
        }
      ]
    },
    {
      "cell_type": "code",
      "source": [
        "print('In anii:',an[np.argsort(iepure)[0]],an[np.argsort(iepure)[1]],'populatiile de iepuri au fost cele mai mici')\n",
        "print('In anii:',an[np.argsort(linx)[0]],an[np.argsort(linx)[1]],'populatiile de lincsi au fost cele mai mici')\n",
        "print('In anii:',an[np.argsort(morcov)[0]],an[np.argsort(morcov)[1]],'populatiile de morcovi au fost cele mai mici')"
      ],
      "metadata": {
        "id": "zI_NQeR9jeHX",
        "colab": {
          "base_uri": "https://localhost:8080/"
        },
        "outputId": "a6ac4bde-ef23-4a33-b861-853155d887b2"
      },
      "execution_count": 364,
      "outputs": [
        {
          "output_type": "stream",
          "name": "stdout",
          "text": [
            "In anii: 1917.0 1916.0 populatiile de iepuri au fost cele mai mici\n",
            "In anii: 1900.0 1901.0 populatiile de lincsi au fost cele mai mici\n",
            "In anii: 1916.0 1903.0 populatiile de morcovi au fost cele mai mici\n"
          ]
        }
      ]
    },
    {
      "cell_type": "code",
      "execution_count": 365,
      "metadata": {
        "colab": {
          "base_uri": "https://localhost:8080/",
          "height": 313
        },
        "id": "PnOIAghPYPqo",
        "outputId": "4187e352-d20b-4baa-e579-877a4f8d486c"
      },
      "outputs": [
        {
          "output_type": "display_data",
          "data": {
            "text/plain": [
              "<Figure size 432x288 with 1 Axes>"
            ],
            "image/png": "[encoded data removed]"
          },
          "metadata": {
            "needs_background": "light"
          }
        },
        {
          "output_type": "stream",
          "name": "stdout",
          "text": [
            "[[1.         0.07189206]\n",
            " [0.07189206 1.        ]]\n"
          ]
        }
      ],
      "source": [
        "plt.axes([0.2,0.1,0.5,0.8])\n",
        "plt.plot(an,np.gradient(iepure),an,np.gradient(linx))\n",
        "plt.legend(('Iepure','Linx'),loc=(1.05,0.5))\n",
        "plt.show()\n",
        "print(np.corrcoef(iepure,linx))"
      ]
    }
  ]
}