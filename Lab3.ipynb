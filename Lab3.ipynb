{
  "nbformat": 4,
  "nbformat_minor": 0,
  "metadata": {
    "colab": {
      "provenance": [],
      "authorship_tag": "ABX9TyOLIS9lt/CEEUWYJjSOIZbC",
      "include_colab_link": true
    },
    "kernelspec": {
      "name": "python3",
      "display_name": "Python 3"
    },
    "language_info": {
      "name": "python"
    }
  },
  "cells": [
    {
      "cell_type": "markdown",
      "metadata": {
        "id": "view-in-github",
        "colab_type": "text"
      },
      "source": [
        "<a href=\"https://colab.research.google.com/github/RooKeeh/AI-Google-Colab/blob/main/Lab3.ipynb\" target=\"_parent\"><img src=\"https://colab.research.google.com/assets/colab-badge.svg\" alt=\"Open In Colab\"/></a>"
      ]
    },
    {
      "cell_type": "markdown",
      "source": [
        "#Secventa de caractere"
      ],
      "metadata": {
        "id": "JLHmU-JXNagN"
      }
    },
    {
      "cell_type": "code",
      "execution_count": 3,
      "metadata": {
        "colab": {
          "base_uri": "https://localhost:8080/"
        },
        "id": "EvO2leZaMaSl",
        "outputId": "26a4c998-9f32-4f92-d268-306b67784f75"
      },
      "outputs": [
        {
          "output_type": "stream",
          "name": "stdout",
          "text": [
            "a\n"
          ]
        }
      ],
      "source": [
        "fruct='banana'\n",
        "litera=fruct[1]\n",
        "print(litera)"
      ]
    },
    {
      "cell_type": "markdown",
      "source": [
        "#Lungimea unui sir de caractere"
      ],
      "metadata": {
        "id": "dn_FpnryN6k-"
      }
    },
    {
      "cell_type": "code",
      "source": [
        "fruct='banana'\n",
        "len(fruct)"
      ],
      "metadata": {
        "colab": {
          "base_uri": "https://localhost:8080/"
        },
        "id": "eI10QJ_GNxu9",
        "outputId": "3e0ec9bb-2571-4a06-a1a8-37eca0c95bf2"
      },
      "execution_count": 4,
      "outputs": [
        {
          "output_type": "execute_result",
          "data": {
            "text/plain": [
              "6"
            ]
          },
          "metadata": {},
          "execution_count": 4
        }
      ]
    },
    {
      "cell_type": "code",
      "source": [
        "lungime=len(fruct)\n",
        "ultim=fruct[lungime]"
      ],
      "metadata": {
        "colab": {
          "base_uri": "https://localhost:8080/",
          "height": 182
        },
        "id": "sKp4Ad_8ONOv",
        "outputId": "3bf90004-e00f-460d-8673-4bca3ae44a6f"
      },
      "execution_count": 5,
      "outputs": [
        {
          "output_type": "error",
          "ename": "IndexError",
          "evalue": "ignored",
          "traceback": [
            "\u001b[0;31m---------------------------------------------------------------------------\u001b[0m",
            "\u001b[0;31mIndexError\u001b[0m                                Traceback (most recent call last)",
            "\u001b[0;32m<ipython-input-5-8d62a811f03d>\u001b[0m in \u001b[0;36m<module>\u001b[0;34m\u001b[0m\n\u001b[1;32m      1\u001b[0m \u001b[0mlungime\u001b[0m\u001b[0;34m=\u001b[0m\u001b[0mlen\u001b[0m\u001b[0;34m(\u001b[0m\u001b[0mfruct\u001b[0m\u001b[0;34m)\u001b[0m\u001b[0;34m\u001b[0m\u001b[0;34m\u001b[0m\u001b[0m\n\u001b[0;32m----> 2\u001b[0;31m \u001b[0multim\u001b[0m\u001b[0;34m=\u001b[0m\u001b[0mfruct\u001b[0m\u001b[0;34m[\u001b[0m\u001b[0mlungime\u001b[0m\u001b[0;34m]\u001b[0m\u001b[0;34m\u001b[0m\u001b[0;34m\u001b[0m\u001b[0m\n\u001b[0m",
            "\u001b[0;31mIndexError\u001b[0m: string index out of range"
          ]
        }
      ]
    },
    {
      "cell_type": "code",
      "source": [
        "ultim=fruct[lungime-1]\n",
        "print(ultim)"
      ],
      "metadata": {
        "colab": {
          "base_uri": "https://localhost:8080/"
        },
        "id": "OD19_EXGOXOr",
        "outputId": "514dac52-a03f-4938-92d7-7e9df09c7ff2"
      },
      "execution_count": 6,
      "outputs": [
        {
          "output_type": "stream",
          "name": "stdout",
          "text": [
            "a\n"
          ]
        }
      ]
    },
    {
      "cell_type": "markdown",
      "source": [
        "#Parcurgerea unui sir de caractere cu o bucla"
      ],
      "metadata": {
        "id": "65HsebdtOflA"
      }
    },
    {
      "cell_type": "code",
      "source": [
        "index=0\n",
        "while index<len(fruct):\n",
        "  litera=fruct[index]\n",
        "  print(litera)\n",
        "  index=index+1"
      ],
      "metadata": {
        "colab": {
          "base_uri": "https://localhost:8080/"
        },
        "id": "NC6ugyWhOiM2",
        "outputId": "7d526e32-98f6-4f0d-c903-5b22816f3f73"
      },
      "execution_count": 7,
      "outputs": [
        {
          "output_type": "stream",
          "name": "stdout",
          "text": [
            "b\n",
            "a\n",
            "n\n",
            "a\n",
            "n\n",
            "a\n"
          ]
        }
      ]
    },
    {
      "cell_type": "markdown",
      "source": [
        "#Exercitiu:\n",
        "Scrieți o buclă while care începe cu ultimul caracter dintr-un string și îl parcurge în sens invers, afișând\n",
        "câte o literă pe câte o linie."
      ],
      "metadata": {
        "id": "ap8e9ESgOvPo"
      }
    },
    {
      "cell_type": "code",
      "source": [
        "index=len(fruct)\n",
        "while index!=0:\n",
        "  litera=fruct[index-1]\n",
        "  print(litera)\n",
        "  index=index-1"
      ],
      "metadata": {
        "colab": {
          "base_uri": "https://localhost:8080/"
        },
        "id": "T03vPzGyOyy6",
        "outputId": "0c4ae176-90b5-4a8a-c81a-d7ac12f903e5"
      },
      "execution_count": 13,
      "outputs": [
        {
          "output_type": "stream",
          "name": "stdout",
          "text": [
            "a\n",
            "n\n",
            "a\n",
            "n\n",
            "a\n",
            "b\n"
          ]
        }
      ]
    },
    {
      "cell_type": "markdown",
      "source": [
        "#Felii de siruri de caractere (Slices)"
      ],
      "metadata": {
        "id": "6cz1N_-APpRZ"
      }
    },
    {
      "cell_type": "code",
      "source": [
        "s='Monty Python'\n",
        "print(s[0:5])"
      ],
      "metadata": {
        "colab": {
          "base_uri": "https://localhost:8080/"
        },
        "id": "pQpusZtlPr4G",
        "outputId": "1cb1e47e-d445-4581-950a-8b9e893cd3e2"
      },
      "execution_count": 15,
      "outputs": [
        {
          "output_type": "stream",
          "name": "stdout",
          "text": [
            "Monty\n"
          ]
        }
      ]
    },
    {
      "cell_type": "code",
      "source": [
        "print(s[6:12])"
      ],
      "metadata": {
        "colab": {
          "base_uri": "https://localhost:8080/"
        },
        "id": "hH3pi9F2P2i7",
        "outputId": "cb4597d3-2c20-4bd6-bfe6-b07c53d1e94a"
      },
      "execution_count": 16,
      "outputs": [
        {
          "output_type": "stream",
          "name": "stdout",
          "text": [
            "Python\n"
          ]
        }
      ]
    },
    {
      "cell_type": "code",
      "source": [
        "fruct='banana'\n",
        "fruct[:3]"
      ],
      "metadata": {
        "colab": {
          "base_uri": "https://localhost:8080/",
          "height": 36
        },
        "id": "uR91YEtTP9AW",
        "outputId": "6c47075f-ef88-433d-b69d-334029814975"
      },
      "execution_count": 17,
      "outputs": [
        {
          "output_type": "execute_result",
          "data": {
            "text/plain": [
              "'ban'"
            ],
            "application/vnd.google.colaboratory.intrinsic+json": {
              "type": "string"
            }
          },
          "metadata": {},
          "execution_count": 17
        }
      ]
    },
    {
      "cell_type": "code",
      "source": [
        "fruct[3:]"
      ],
      "metadata": {
        "colab": {
          "base_uri": "https://localhost:8080/",
          "height": 36
        },
        "id": "mnIQcPsIQBHg",
        "outputId": "d5d8f99d-2bfd-4ca4-bd9a-6e6762b3f0f0"
      },
      "execution_count": 18,
      "outputs": [
        {
          "output_type": "execute_result",
          "data": {
            "text/plain": [
              "'ana'"
            ],
            "application/vnd.google.colaboratory.intrinsic+json": {
              "type": "string"
            }
          },
          "metadata": {},
          "execution_count": 18
        }
      ]
    },
    {
      "cell_type": "code",
      "source": [
        "fruct='banana'\n",
        "fruct[3:3]"
      ],
      "metadata": {
        "colab": {
          "base_uri": "https://localhost:8080/",
          "height": 36
        },
        "id": "n5o9dmuQQEz9",
        "outputId": "73e372b9-d7d5-42f2-a463-814f9291b482"
      },
      "execution_count": 19,
      "outputs": [
        {
          "output_type": "execute_result",
          "data": {
            "text/plain": [
              "''"
            ],
            "application/vnd.google.colaboratory.intrinsic+json": {
              "type": "string"
            }
          },
          "metadata": {},
          "execution_count": 19
        }
      ]
    },
    {
      "cell_type": "code",
      "source": [
        "greeting='Hello, world!'\n",
        "greeting[0]='J'"
      ],
      "metadata": {
        "colab": {
          "base_uri": "https://localhost:8080/",
          "height": 182
        },
        "id": "ENvZZP18QMx9",
        "outputId": "8c97c25a-a75b-445f-c7f4-cda04f5646d5"
      },
      "execution_count": 20,
      "outputs": [
        {
          "output_type": "error",
          "ename": "TypeError",
          "evalue": "ignored",
          "traceback": [
            "\u001b[0;31m---------------------------------------------------------------------------\u001b[0m",
            "\u001b[0;31mTypeError\u001b[0m                                 Traceback (most recent call last)",
            "\u001b[0;32m<ipython-input-20-fe41d99cfc1a>\u001b[0m in \u001b[0;36m<module>\u001b[0;34m\u001b[0m\n\u001b[1;32m      1\u001b[0m \u001b[0mgreeting\u001b[0m\u001b[0;34m=\u001b[0m\u001b[0;34m'Hello, world!'\u001b[0m\u001b[0;34m\u001b[0m\u001b[0;34m\u001b[0m\u001b[0m\n\u001b[0;32m----> 2\u001b[0;31m \u001b[0mgreeting\u001b[0m\u001b[0;34m[\u001b[0m\u001b[0;36m0\u001b[0m\u001b[0;34m]\u001b[0m\u001b[0;34m=\u001b[0m\u001b[0;34m'J'\u001b[0m\u001b[0;34m\u001b[0m\u001b[0;34m\u001b[0m\u001b[0m\n\u001b[0m",
            "\u001b[0;31mTypeError\u001b[0m: 'str' object does not support item assignment"
          ]
        }
      ]
    },
    {
      "cell_type": "markdown",
      "source": [
        "#Numararea caracterelor printr-o bucla"
      ],
      "metadata": {
        "id": "E9JHnBo1QWHT"
      }
    },
    {
      "cell_type": "code",
      "source": [
        "word='banana'\n",
        "count=0\n",
        "for letter in word:\n",
        "  if letter=='a':\n",
        "    count=count+1\n",
        "print(count)"
      ],
      "metadata": {
        "colab": {
          "base_uri": "https://localhost:8080/"
        },
        "id": "BBDPWPBdQSMR",
        "outputId": "49e46a74-bdf6-418f-c7f7-9f7650aaa5c6"
      },
      "execution_count": 21,
      "outputs": [
        {
          "output_type": "stream",
          "name": "stdout",
          "text": [
            "3\n"
          ]
        }
      ]
    },
    {
      "cell_type": "markdown",
      "source": [
        "#Exercitiu:\n",
        "Încapsulați secvența de cod de mai sus într-o funcție numităcount și generalizați-o astfel încât\n",
        "să accepte șirul de caractere și litera de numărat ca și argumente.\n"
      ],
      "metadata": {
        "id": "v5tAyEisQliS"
      }
    },
    {
      "cell_type": "code",
      "source": [
        "def count(w,l):\n",
        "  a=l\n",
        "  c=0\n",
        "  for l in w:\n",
        "    letter=l\n",
        "    if letter==a:\n",
        "      c=c+1\n",
        "  print(c)\n",
        "count('banana','n')"
      ],
      "metadata": {
        "colab": {
          "base_uri": "https://localhost:8080/"
        },
        "id": "KSm9ITUVQn8d",
        "outputId": "56a4b9fa-984f-46f0-dba9-7202b0ab20e8"
      },
      "execution_count": 33,
      "outputs": [
        {
          "output_type": "stream",
          "name": "stdout",
          "text": [
            "2\n"
          ]
        }
      ]
    },
    {
      "cell_type": "markdown",
      "source": [
        "#Operatorul in"
      ],
      "metadata": {
        "id": "tskIPV9cSkVW"
      }
    },
    {
      "cell_type": "code",
      "source": [
        "'a' in 'banana'"
      ],
      "metadata": {
        "colab": {
          "base_uri": "https://localhost:8080/"
        },
        "id": "MTi8lL1WSltR",
        "outputId": "3caf9f90-29c0-49cd-9bf4-5fc7081996c3"
      },
      "execution_count": 34,
      "outputs": [
        {
          "output_type": "execute_result",
          "data": {
            "text/plain": [
              "True"
            ]
          },
          "metadata": {},
          "execution_count": 34
        }
      ]
    },
    {
      "cell_type": "code",
      "source": [
        "'seed' in 'banana'"
      ],
      "metadata": {
        "colab": {
          "base_uri": "https://localhost:8080/"
        },
        "id": "GSouJOVfSoeg",
        "outputId": "1cacc1bc-5431-45e6-ba00-67f9e9192840"
      },
      "execution_count": 35,
      "outputs": [
        {
          "output_type": "execute_result",
          "data": {
            "text/plain": [
              "False"
            ]
          },
          "metadata": {},
          "execution_count": 35
        }
      ]
    },
    {
      "cell_type": "markdown",
      "source": [
        "#Compararea sirurilor"
      ],
      "metadata": {
        "id": "fp6le1cSSqYN"
      }
    },
    {
      "cell_type": "code",
      "source": [
        "word='abcdefghij'\n",
        "if word<'banana':\n",
        "  print('Cuvantul '+word+' este inainte de banana.')\n",
        "elif word>'banana':\n",
        "  print('Cuvantul '+word+' este dupa banana.')\n",
        "else:\n",
        "  print('Egalitate')"
      ],
      "metadata": {
        "colab": {
          "base_uri": "https://localhost:8080/"
        },
        "id": "Z7GTqC0ISsr_",
        "outputId": "0d10a6e7-322c-4b19-94a1-b76ada3bad5c"
      },
      "execution_count": 40,
      "outputs": [
        {
          "output_type": "stream",
          "name": "stdout",
          "text": [
            "Cuvantul abcdefghij este inainte de banana.\n"
          ]
        }
      ]
    },
    {
      "cell_type": "markdown",
      "source": [
        "#Metodele sirurilor de caractere"
      ],
      "metadata": {
        "id": "W2MK1EyRTRG7"
      }
    },
    {
      "cell_type": "code",
      "source": [
        "cuvant='Hello'\n",
        "type(cuvant)"
      ],
      "metadata": {
        "colab": {
          "base_uri": "https://localhost:8080/"
        },
        "id": "WpyF9sK-TTIC",
        "outputId": "1db1fe3c-4438-4516-dade-0466ab009130"
      },
      "execution_count": 41,
      "outputs": [
        {
          "output_type": "execute_result",
          "data": {
            "text/plain": [
              "str"
            ]
          },
          "metadata": {},
          "execution_count": 41
        }
      ]
    },
    {
      "cell_type": "code",
      "source": [
        "dir(cuvant)"
      ],
      "metadata": {
        "colab": {
          "base_uri": "https://localhost:8080/"
        },
        "id": "b3dfSHn8TXww",
        "outputId": "70ad82aa-2990-4dcd-b370-9d1fe67ae321"
      },
      "execution_count": 42,
      "outputs": [
        {
          "output_type": "execute_result",
          "data": {
            "text/plain": [
              "['__add__',\n",
              " '__class__',\n",
              " '__contains__',\n",
              " '__delattr__',\n",
              " '__dir__',\n",
              " '__doc__',\n",
              " '__eq__',\n",
              " '__format__',\n",
              " '__ge__',\n",
              " '__getattribute__',\n",
              " '__getitem__',\n",
              " '__getnewargs__',\n",
              " '__gt__',\n",
              " '__hash__',\n",
              " '__init__',\n",
              " '__init_subclass__',\n",
              " '__iter__',\n",
              " '__le__',\n",
              " '__len__',\n",
              " '__lt__',\n",
              " '__mod__',\n",
              " '__mul__',\n",
              " '__ne__',\n",
              " '__new__',\n",
              " '__reduce__',\n",
              " '__reduce_ex__',\n",
              " '__repr__',\n",
              " '__rmod__',\n",
              " '__rmul__',\n",
              " '__setattr__',\n",
              " '__sizeof__',\n",
              " '__str__',\n",
              " '__subclasshook__',\n",
              " 'capitalize',\n",
              " 'casefold',\n",
              " 'center',\n",
              " 'count',\n",
              " 'encode',\n",
              " 'endswith',\n",
              " 'expandtabs',\n",
              " 'find',\n",
              " 'format',\n",
              " 'format_map',\n",
              " 'index',\n",
              " 'isalnum',\n",
              " 'isalpha',\n",
              " 'isascii',\n",
              " 'isdecimal',\n",
              " 'isdigit',\n",
              " 'isidentifier',\n",
              " 'islower',\n",
              " 'isnumeric',\n",
              " 'isprintable',\n",
              " 'isspace',\n",
              " 'istitle',\n",
              " 'isupper',\n",
              " 'join',\n",
              " 'ljust',\n",
              " 'lower',\n",
              " 'lstrip',\n",
              " 'maketrans',\n",
              " 'partition',\n",
              " 'replace',\n",
              " 'rfind',\n",
              " 'rindex',\n",
              " 'rjust',\n",
              " 'rpartition',\n",
              " 'rsplit',\n",
              " 'rstrip',\n",
              " 'split',\n",
              " 'splitlines',\n",
              " 'startswith',\n",
              " 'strip',\n",
              " 'swapcase',\n",
              " 'title',\n",
              " 'translate',\n",
              " 'upper',\n",
              " 'zfill']"
            ]
          },
          "metadata": {},
          "execution_count": 42
        }
      ]
    },
    {
      "cell_type": "code",
      "source": [
        "help(str.capitalize)"
      ],
      "metadata": {
        "colab": {
          "base_uri": "https://localhost:8080/"
        },
        "id": "TGTlEFnITaTG",
        "outputId": "f7e4b314-1ad4-4981-a15f-497bb3571710"
      },
      "execution_count": 43,
      "outputs": [
        {
          "output_type": "stream",
          "name": "stdout",
          "text": [
            "Help on method_descriptor:\n",
            "\n",
            "capitalize(self, /)\n",
            "    Return a capitalized version of the string.\n",
            "    \n",
            "    More specifically, make the first character have upper case and the rest lower\n",
            "    case.\n",
            "\n"
          ]
        }
      ]
    },
    {
      "cell_type": "code",
      "source": [
        "word='banana'\n",
        "index=word.find('a')\n",
        "print(index)"
      ],
      "metadata": {
        "colab": {
          "base_uri": "https://localhost:8080/"
        },
        "id": "hbe9xJVpTjlb",
        "outputId": "382505f6-c4fe-4071-c7da-a5c6139da17b"
      },
      "execution_count": 44,
      "outputs": [
        {
          "output_type": "stream",
          "name": "stdout",
          "text": [
            "1\n"
          ]
        }
      ]
    },
    {
      "cell_type": "code",
      "source": [
        "word.find('na',3)"
      ],
      "metadata": {
        "colab": {
          "base_uri": "https://localhost:8080/"
        },
        "id": "Pu1dQigoTpA1",
        "outputId": "26aa53f1-c270-4ffe-d707-07d618156ed9"
      },
      "execution_count": 45,
      "outputs": [
        {
          "output_type": "execute_result",
          "data": {
            "text/plain": [
              "4"
            ]
          },
          "metadata": {},
          "execution_count": 45
        }
      ]
    },
    {
      "cell_type": "code",
      "source": [
        "line='Have a nice day'\n",
        "line.startswith('Have')"
      ],
      "metadata": {
        "colab": {
          "base_uri": "https://localhost:8080/"
        },
        "id": "gKo2FRUZT7dF",
        "outputId": "35e6a928-7783-4422-8c32-2e618bd97c1e"
      },
      "execution_count": 46,
      "outputs": [
        {
          "output_type": "execute_result",
          "data": {
            "text/plain": [
              "True"
            ]
          },
          "metadata": {},
          "execution_count": 46
        }
      ]
    },
    {
      "cell_type": "code",
      "source": [
        "line.startswith('h')"
      ],
      "metadata": {
        "colab": {
          "base_uri": "https://localhost:8080/"
        },
        "id": "hUeO-_zNUAFD",
        "outputId": "3ef181d1-8d31-42c7-ac0d-03f12e4ce0de"
      },
      "execution_count": 47,
      "outputs": [
        {
          "output_type": "execute_result",
          "data": {
            "text/plain": [
              "False"
            ]
          },
          "metadata": {},
          "execution_count": 47
        }
      ]
    },
    {
      "cell_type": "code",
      "source": [
        "line.lower()"
      ],
      "metadata": {
        "colab": {
          "base_uri": "https://localhost:8080/",
          "height": 36
        },
        "id": "xxX8XWwVUCWt",
        "outputId": "e2a7d003-3288-4665-e95a-5bbd6a885b9c"
      },
      "execution_count": 48,
      "outputs": [
        {
          "output_type": "execute_result",
          "data": {
            "text/plain": [
              "'have a nice day'"
            ],
            "application/vnd.google.colaboratory.intrinsic+json": {
              "type": "string"
            }
          },
          "metadata": {},
          "execution_count": 48
        }
      ]
    },
    {
      "cell_type": "code",
      "source": [
        "line.lower().startswith('h')"
      ],
      "metadata": {
        "colab": {
          "base_uri": "https://localhost:8080/"
        },
        "id": "WLUBSfIJUDp9",
        "outputId": "4364726b-e48d-4ab2-a76e-66778c41f1ac"
      },
      "execution_count": 49,
      "outputs": [
        {
          "output_type": "execute_result",
          "data": {
            "text/plain": [
              "True"
            ]
          },
          "metadata": {},
          "execution_count": 49
        }
      ]
    },
    {
      "cell_type": "markdown",
      "source": [
        "#Parsarea sirurilor de caractere"
      ],
      "metadata": {
        "id": "cA3lGtJtUI3R"
      }
    },
    {
      "cell_type": "code",
      "source": [
        "data='From stephen.marquard@uct.ac.za Sat Jan 5 09:14:16 2008'\n",
        "atpos=data.find('@')\n",
        "print(atpos)"
      ],
      "metadata": {
        "colab": {
          "base_uri": "https://localhost:8080/"
        },
        "id": "OT7KQCq5UKwz",
        "outputId": "7140f730-95c5-42ad-be8f-721f5b56e4df"
      },
      "execution_count": 50,
      "outputs": [
        {
          "output_type": "stream",
          "name": "stdout",
          "text": [
            "21\n"
          ]
        }
      ]
    },
    {
      "cell_type": "code",
      "source": [
        "sppos=data.find(' ',atpos)\n",
        "print(sppos)"
      ],
      "metadata": {
        "colab": {
          "base_uri": "https://localhost:8080/"
        },
        "id": "IlCZAPkgUVX1",
        "outputId": "a02db1ad-7025-48e4-f1ff-91e46fc036e3"
      },
      "execution_count": 57,
      "outputs": [
        {
          "output_type": "stream",
          "name": "stdout",
          "text": [
            "31\n"
          ]
        }
      ]
    },
    {
      "cell_type": "code",
      "source": [
        "host=data[atpos+1:sppos]\n",
        "print(host)"
      ],
      "metadata": {
        "colab": {
          "base_uri": "https://localhost:8080/"
        },
        "id": "WnDCbKxcUyRR",
        "outputId": "69233f1e-37bc-45e8-eed0-ddfea6d94b56"
      },
      "execution_count": 58,
      "outputs": [
        {
          "output_type": "stream",
          "name": "stdout",
          "text": [
            "uct.ac.za\n"
          ]
        }
      ]
    },
    {
      "cell_type": "markdown",
      "source": [
        "#Operatorul de formatare"
      ],
      "metadata": {
        "id": "D2dnkSqwU4ww"
      }
    },
    {
      "cell_type": "code",
      "source": [
        "camile=42\n",
        "print('Am vazut %d camile.'% camile)"
      ],
      "metadata": {
        "colab": {
          "base_uri": "https://localhost:8080/"
        },
        "id": "-78qc77UU6pE",
        "outputId": "a6e08167-ee3d-4fb0-ce4a-621cc1f4ce78"
      },
      "execution_count": 59,
      "outputs": [
        {
          "output_type": "stream",
          "name": "stdout",
          "text": [
            "Am vazut 42 camile.\n"
          ]
        }
      ]
    },
    {
      "cell_type": "code",
      "source": [
        "print('In %d ani am vazut %g %s.'%(3,0.1,'camile'))"
      ],
      "metadata": {
        "colab": {
          "base_uri": "https://localhost:8080/"
        },
        "id": "Z2LpnIwgVDS_",
        "outputId": "f07ecea3-623e-4941-88e9-ebcd9163df76"
      },
      "execution_count": 60,
      "outputs": [
        {
          "output_type": "stream",
          "name": "stdout",
          "text": [
            "In 3 ani am vazut 0.1 camile.\n"
          ]
        }
      ]
    },
    {
      "cell_type": "markdown",
      "source": [
        "#Exercitiu:\n",
        "Plecând de la următoarea instrucțiune folosiți metoda find și operațiunile de slice pentru a\n",
        "extrage partea de text de după “:” și folosiți apoi funcția float pentru a converti valoarea extrasă\n",
        "într-un număr real pe care să îl afișați.\n",
        "text = 'X-DSPAM-Confidence:0.8475'\n"
      ],
      "metadata": {
        "id": "PRPdtcxZVLD7"
      }
    },
    {
      "cell_type": "code",
      "source": [
        "text = 'X-DSPAM-Confidence:0.8475'\n",
        "atpos=text.find(':')\n",
        "find=text[atpos+1:]\n",
        "print(find)\n",
        "print(float(find),type(float(find)))"
      ],
      "metadata": {
        "colab": {
          "base_uri": "https://localhost:8080/"
        },
        "id": "ij_SZ-bpVQQw",
        "outputId": "810b3066-c3c6-4b3f-f5ca-384a63767b50"
      },
      "execution_count": 31,
      "outputs": [
        {
          "output_type": "stream",
          "name": "stdout",
          "text": [
            "0.8475\n",
            "0.8475 <class 'float'>\n"
          ]
        }
      ]
    },
    {
      "cell_type": "markdown",
      "source": [
        "#Deschiderea fisierelor"
      ],
      "metadata": {
        "id": "FXjNwyYiVk6Q"
      }
    },
    {
      "cell_type": "code",
      "source": [
        "f= open('mbox.txt')\n",
        "print(f)"
      ],
      "metadata": {
        "colab": {
          "base_uri": "https://localhost:8080/"
        },
        "id": "RyetiHi0Vm2d",
        "outputId": "b602a286-637d-4543-b5b9-08cc035baf8d"
      },
      "execution_count": 61,
      "outputs": [
        {
          "output_type": "stream",
          "name": "stdout",
          "text": [
            "<_io.TextIOWrapper name='mbox.txt' mode='r' encoding='UTF-8'>\n"
          ]
        }
      ]
    },
    {
      "cell_type": "markdown",
      "source": [
        "#Fisierele text si liniile din fisier"
      ],
      "metadata": {
        "id": "z2adg7cNWyp7"
      }
    },
    {
      "cell_type": "code",
      "source": [
        "f=open('mbox.txt')\n",
        "count=0\n",
        "for line in f:\n",
        "  count=count+1\n",
        "print('Nr linii: ',count)"
      ],
      "metadata": {
        "colab": {
          "base_uri": "https://localhost:8080/"
        },
        "id": "HKbQ1eclW12K",
        "outputId": "fd07bdaa-eef2-402f-deb9-d9091a53e21d"
      },
      "execution_count": 62,
      "outputs": [
        {
          "output_type": "stream",
          "name": "stdout",
          "text": [
            "Nr linii:  132045\n"
          ]
        }
      ]
    },
    {
      "cell_type": "code",
      "source": [
        "f2=open('mbox-short.txt')\n",
        "inp=f2.read()\n",
        "print(len(inp))"
      ],
      "metadata": {
        "colab": {
          "base_uri": "https://localhost:8080/"
        },
        "id": "EowQeev9XA8e",
        "outputId": "3b8c1607-788c-48fb-c4be-0240c64513a5"
      },
      "execution_count": 63,
      "outputs": [
        {
          "output_type": "stream",
          "name": "stdout",
          "text": [
            "94626\n"
          ]
        }
      ]
    },
    {
      "cell_type": "code",
      "source": [
        "print(inp[:20])"
      ],
      "metadata": {
        "colab": {
          "base_uri": "https://localhost:8080/"
        },
        "id": "AM6B1-wNXH3D",
        "outputId": "f5548289-1d11-4cbf-f260-25fe1f7a9441"
      },
      "execution_count": 64,
      "outputs": [
        {
          "output_type": "stream",
          "name": "stdout",
          "text": [
            "From stephen.marquar\n"
          ]
        }
      ]
    },
    {
      "cell_type": "markdown",
      "source": [
        "#Cautarea in fisiere"
      ],
      "metadata": {
        "id": "_62uxogKXLAk"
      }
    },
    {
      "cell_type": "code",
      "source": [
        "f=open('mbox-short.txt')\n",
        "count=0\n",
        "for line in f:\n",
        "  if line.startswith('From:'):\n",
        "    print(line)"
      ],
      "metadata": {
        "colab": {
          "base_uri": "https://localhost:8080/"
        },
        "id": "YbulxftKXMdS",
        "outputId": "36e04e10-5669-4829-dcdf-0a357326bc4e"
      },
      "execution_count": 66,
      "outputs": [
        {
          "output_type": "stream",
          "name": "stdout",
          "text": [
            "From: stephen.marquard@uct.ac.za\n",
            "\n",
            "From: louis@media.berkeley.edu\n",
            "\n",
            "From: zqian@umich.edu\n",
            "\n",
            "From: rjlowe@iupui.edu\n",
            "\n",
            "From: zqian@umich.edu\n",
            "\n",
            "From: rjlowe@iupui.edu\n",
            "\n",
            "From: cwen@iupui.edu\n",
            "\n",
            "From: cwen@iupui.edu\n",
            "\n",
            "From: gsilver@umich.edu\n",
            "\n",
            "From: gsilver@umich.edu\n",
            "\n",
            "From: zqian@umich.edu\n",
            "\n",
            "From: gsilver@umich.edu\n",
            "\n",
            "From: wagnermr@iupui.edu\n",
            "\n",
            "From: zqian@umich.edu\n",
            "\n",
            "From: antranig@caret.cam.ac.uk\n",
            "\n",
            "From: gopal.ramasammycook@gmail.com\n",
            "\n",
            "From: david.horwitz@uct.ac.za\n",
            "\n",
            "From: david.horwitz@uct.ac.za\n",
            "\n",
            "From: david.horwitz@uct.ac.za\n",
            "\n",
            "From: david.horwitz@uct.ac.za\n",
            "\n",
            "From: stephen.marquard@uct.ac.za\n",
            "\n",
            "From: louis@media.berkeley.edu\n",
            "\n",
            "From: louis@media.berkeley.edu\n",
            "\n",
            "From: ray@media.berkeley.edu\n",
            "\n",
            "From: cwen@iupui.edu\n",
            "\n",
            "From: cwen@iupui.edu\n",
            "\n",
            "From: cwen@iupui.edu\n",
            "\n"
          ]
        }
      ]
    },
    {
      "cell_type": "code",
      "source": [
        "f=open('mbox-short.txt')\n",
        "for line in f:\n",
        "  line=line.rstrip()\n",
        "  if line.startswith('From:'):\n",
        "    print(line)"
      ],
      "metadata": {
        "colab": {
          "base_uri": "https://localhost:8080/"
        },
        "id": "xb6C8kuAXZ7-",
        "outputId": "4ab3c374-5e36-4ec1-b142-e55c6f90dbad"
      },
      "execution_count": 67,
      "outputs": [
        {
          "output_type": "stream",
          "name": "stdout",
          "text": [
            "From: stephen.marquard@uct.ac.za\n",
            "From: louis@media.berkeley.edu\n",
            "From: zqian@umich.edu\n",
            "From: rjlowe@iupui.edu\n",
            "From: zqian@umich.edu\n",
            "From: rjlowe@iupui.edu\n",
            "From: cwen@iupui.edu\n",
            "From: cwen@iupui.edu\n",
            "From: gsilver@umich.edu\n",
            "From: gsilver@umich.edu\n",
            "From: zqian@umich.edu\n",
            "From: gsilver@umich.edu\n",
            "From: wagnermr@iupui.edu\n",
            "From: zqian@umich.edu\n",
            "From: antranig@caret.cam.ac.uk\n",
            "From: gopal.ramasammycook@gmail.com\n",
            "From: david.horwitz@uct.ac.za\n",
            "From: david.horwitz@uct.ac.za\n",
            "From: david.horwitz@uct.ac.za\n",
            "From: david.horwitz@uct.ac.za\n",
            "From: stephen.marquard@uct.ac.za\n",
            "From: louis@media.berkeley.edu\n",
            "From: louis@media.berkeley.edu\n",
            "From: ray@media.berkeley.edu\n",
            "From: cwen@iupui.edu\n",
            "From: cwen@iupui.edu\n",
            "From: cwen@iupui.edu\n"
          ]
        }
      ]
    },
    {
      "cell_type": "markdown",
      "source": [
        "#Alegerea numelui fisierului de catre utilizator"
      ],
      "metadata": {
        "id": "Xbjvf7kCYBAN"
      }
    },
    {
      "cell_type": "code",
      "source": [
        "fname=input('Introduceti numele fisierului: ')\n",
        "f=open(fname)\n",
        "count=0\n",
        "for line in f:\n",
        "  if line.startswith('Subject:'):\n",
        "    count=count+1\n",
        "print('Au fost gasite',count,'linii de Subiect in',fname)"
      ],
      "metadata": {
        "colab": {
          "base_uri": "https://localhost:8080/"
        },
        "id": "9D3Dl-XBYEC2",
        "outputId": "44c200fe-da33-42a3-cc0a-172da4f94f8d"
      },
      "execution_count": 71,
      "outputs": [
        {
          "output_type": "stream",
          "name": "stdout",
          "text": [
            "Introduceti numele fisierului: mbox-short.txt\n",
            "Au fost gasite 27 linii de Subiect in mbox-short.txt\n"
          ]
        }
      ]
    },
    {
      "cell_type": "markdown",
      "source": [
        "#Folosirea try, except si open"
      ],
      "metadata": {
        "id": "eB4RlV45YmJj"
      }
    },
    {
      "cell_type": "code",
      "source": [
        "fname=input('Nume fisier: ')\n",
        "try:\n",
        "  f=open(fname)\n",
        "except:\n",
        "  print('Fisierul nu a fost gasit:',fname)\n",
        "  exit()\n",
        "count=0\n",
        "for line in f:\n",
        "  if line.startswith('Subject:'):\n",
        "    count=count+1\n",
        "print('Au fost gasite',count,'linii de Subiect in',fname)"
      ],
      "metadata": {
        "colab": {
          "base_uri": "https://localhost:8080/"
        },
        "id": "z2M5MbgGYoAK",
        "outputId": "08c34355-227e-41f7-e688-086417383bc4"
      },
      "execution_count": 74,
      "outputs": [
        {
          "output_type": "stream",
          "name": "stdout",
          "text": [
            "Nume fisier: mbox\n",
            "Fisierul nu a fost gasit: mbox\n",
            "Au fost gasite 0 linii de Subiect in mbox\n"
          ]
        }
      ]
    },
    {
      "cell_type": "markdown",
      "source": [
        "#Scrierea in fisier"
      ],
      "metadata": {
        "id": "imyjT95-ZLxi"
      }
    },
    {
      "cell_type": "code",
      "source": [
        "fout=open('output.txt','w')\n",
        "print(fout)"
      ],
      "metadata": {
        "colab": {
          "base_uri": "https://localhost:8080/"
        },
        "id": "t5GQ84qOZI8T",
        "outputId": "bd66afc1-a1aa-4fb3-d24e-10bf9015ffdf"
      },
      "execution_count": 1,
      "outputs": [
        {
          "output_type": "stream",
          "name": "stdout",
          "text": [
            "<_io.TextIOWrapper name='output.txt' mode='w' encoding='UTF-8'>\n"
          ]
        }
      ]
    },
    {
      "cell_type": "code",
      "source": [
        "fout=open('output.txt','w')\n",
        "line1=\"Nu credeam sa-nvat a muri vreodata\\n\"\n",
        "fout.write(line1)\n",
        "line2='Pururi tanar, infasurat in manta-mi\\n'\n",
        "fout.write(line2)\n",
        "fout.close()"
      ],
      "metadata": {
        "id": "ZgteuAn4Ze1A"
      },
      "execution_count": 2,
      "outputs": []
    },
    {
      "cell_type": "markdown",
      "source": [
        "#Exercitii\n",
        "1. Scrieti un program care citeste dintr-un fisier si afiseaza continutul linie cu linie folosind\n",
        "majuscule. Executia va arata astfel:\n",
        "python shout.py\n",
        "Enter a file name: mbox-short.txt\n",
        "FROM STEPHEN.MARQUARD@UCT.AC.ZA SAT JAN 5 09:14:16 2008\n",
        "RETURN-PATH: <POSTMASTER@COLLAB.SAKAIPROJECT.ORG>\n",
        "RECEIVED: FROM MURDER (MAIL.UMICH.EDU [141.211.14.90])\n",
        "BY FRANKENSTEIN.MAIL.UMICH.EDU (CYRUS V2.3.8) WITH LMTPA;\n",
        "SAT, 05 JAN 2008 09:14:16 -0500\n",
        "2. Scrieti un program care citeste dintr-un fisier si cauta linii de forma:\n",
        "X-DSPAM-Confidence: 0.8475"
      ],
      "metadata": {
        "id": "z1lwPgNNaUyo"
      }
    },
    {
      "cell_type": "code",
      "source": [],
      "metadata": {
        "id": "rbZXxIqrad9U"
      },
      "execution_count": null,
      "outputs": []
    }
  ]
}